{
 "cells": [
  {
   "cell_type": "markdown",
   "metadata": {},
   "source": [
    "# Clustering Basketball Shooting Data: Finding Patterns in How Players Score  \n",
    "\n",
    "Have you ever wondered just *how* much Steph Curry loves the three-ball? What about SGA, king of the mid-range — how different is his shot profile from, say, Zion Williamson, who lives in the paint?  \n",
    "\n",
    "NBA players have distinct shooting tendencies, but these tendencies aren’t always obvious just by looking at raw numbers. Sure, we can check a player’s shooting percentages from different distances, but how do we **see the bigger picture** 👀 ? How do we group players with similar scoring styles?  \n",
    "\n",
    "This is where **clustering** comes in. Using a technique called Principal Component Analysis (PCA), we can simplify complex shooting data and uncover hidden patterns in how players score. In this tutorial, we’ll take real NBA shooting stats and break them down into meaningful groups—helping us answer questions like:  \n",
    "- Who has a similar shot profile to Steph?  \n",
    "- Which players rely the most on mid-range jumpers?  \n",
    "- Are there clear groups of scorers based on shot selection?  \n",
    "\n",
    "And the best part? You don’t need to be a data scientist to follow along. Whether you're the League Pass type or a casual follower, you’ll get to see how a little data magic can turn raw numbers into **meaningful insights**.  \n",
    "\n",
    "Let’s dive in!\n",
    "\n",
    "## Table of Contents\n",
    "1. [What is Clustering? Why Does it Matter?](#section-1-what-is-clustering-and-why-does-it-matter)\n",
    "2. [Getting the Data and Setting up our Notebook](#section-2-getting-the-data-and-setting-up-the-notebook)\n",
    "3. [Data Cleaning and Feature Selection](#section-3-data-cleaning-and-feature-selection)\n",
    "4. [Standardization and Dimensionality Reduction using PCA](#section-4-standardization-and-dimensionality-reduction)\n",
    "5. [Summary and Next Steps](#summary)"
   ]
  },
  {
   "cell_type": "markdown",
   "metadata": {},
   "source": [
    "## Section 1: What is Clustering and Why Does it Matter?\n",
    "\n",
    "Basketball is a game of styles. Some players live at the rim, others thrive beyond the arc, and then there's everything in between. But how do we **group players** based on their shot selection?  \n",
    "\n",
    "Imagine you're a coach or an analyst. You don’t have time to go through hundreds of players’ shooting charts one by one. Instead, you want a fast, automated way to find patterns — to group players with similar scoring tendencies. This is where **clustering** comes in.  \n",
    "\n",
    "### 🔍 What is Clustering?  \n",
    "Clustering is a technique used in data science that helps us group similar data points together. In our case, we’ll use clustering to find **players with similar shot profiles**. It is an *unsupervised* method, meaning the computer can cluster our data without us telling it in advance what groups to create.  \n",
    "\n",
    "Think of it like this:  \n",
    "- If we had a dataset of **animal sizes**, clustering might naturally separate elephants, dogs, and birds into distinct groups.  \n",
    "- In basketball, we can use clustering to **separate players based on where they take their shots**—grouping mid-range specialists together, spotting three-point snipers, and identifying players who rely heavily on points in the paint.  \n",
    "\n",
    "### 🏀 Why is Clustering Useful in Basketball?  \n",
    "Scouting reports and analytics teams often use clustering to:  \n",
    "✅ Compare players with similar styles (**“Find me the next James Harden”**)  \n",
    "✅ Identify outliers (**“Who takes an unusually high number of corner threes?”**)  \n",
    "✅ Improve game planning (**“Which opponents have similar shot tendencies?”**)  \n",
    "\n",
    "With clustering, we **let the data speak for itself** — no need for pre-defined categories or manual sorting. Instead, we uncover natural patterns in the numbers.  \n",
    "\n",
    "🔹 **Next Up:** We’ll set up our dataset and get ready to find hidden patterns in NBA shooting data.  \n",
    "\n",
    "---"
   ]
  },
  {
   "cell_type": "markdown",
   "metadata": {},
   "source": [
    "## Section 2: Getting the Data and Setting Up the Notebook  \n",
    "\n",
    "Before we start analyzing NBA players' shooting tendencies, we need to get our hands on some real data. We'll be using an open-source dataset from Kaggle, which compiles NBA stats from [Basketball Reference](https://www.basketball-reference.com).\n",
    "\n",
    "#### Step 1: Download the Data  \n",
    "The dataset we need is available [here](https://www.kaggle.com/datasets/sumitrodatta/nba-aba-baa-stats). If you haven’t already, go ahead and download it (or you can access it via the Kaggle API). The key file we'll use is the **shooting** table, which contains detailed breakdowns of where players take their shots from.  \n",
    "\n",
    "#### Step 2: Load the Data in Python  \n",
    "We’ll be working in a Jupyter Notebook, so let’s first import the necessary libraries and load our dataset. If you haven't installed some of these libraries, you can do so with:\n",
    "\n",
    "```python\n",
    "!pip install pandas numpy matplotlib seaborn scikit-learn\n",
    "```\n"
   ]
  },
  {
   "cell_type": "markdown",
   "metadata": {},
   "source": [
    "We will need these libraries for the following tasks:\n",
    "- `pandas` for data manipulation (loading the dataset, cleaning, etc.)\n",
    "- `numpy` for numerical operations\n",
    "- `matplotlib` and `plotly` for data visualization\n",
    "- `sklearn` for clustering and PCA\n",
    "\n",
    "Now let's import the libraries:"
   ]
  },
  {
   "cell_type": "code",
   "execution_count": null,
   "metadata": {},
   "outputs": [],
   "source": [
    "import pandas as pd\n",
    "import numpy as np\n",
    "import matplotlib.pyplot as plt\n",
    "from sklearn.decomposition import PCA\n",
    "from sklearn.preprocessing import StandardScaler"
   ]
  },
  {
   "cell_type": "markdown",
   "metadata": {},
   "source": [
    "Next, we'll load the dataset and take a quick look at the first few rows to understand the structure of the data."
   ]
  },
  {
   "cell_type": "code",
   "execution_count": 65,
   "metadata": {},
   "outputs": [
    {
     "data": {
      "text/html": [
       "<div>\n",
       "<style scoped>\n",
       "    .dataframe tbody tr th:only-of-type {\n",
       "        vertical-align: middle;\n",
       "    }\n",
       "\n",
       "    .dataframe tbody tr th {\n",
       "        vertical-align: top;\n",
       "    }\n",
       "\n",
       "    .dataframe thead th {\n",
       "        text-align: right;\n",
       "    }\n",
       "</style>\n",
       "<table border=\"1\" class=\"dataframe\">\n",
       "  <thead>\n",
       "    <tr style=\"text-align: right;\">\n",
       "      <th></th>\n",
       "      <th>seas_id</th>\n",
       "      <th>season</th>\n",
       "      <th>player_id</th>\n",
       "      <th>player</th>\n",
       "      <th>birth_year</th>\n",
       "      <th>pos</th>\n",
       "      <th>age</th>\n",
       "      <th>experience</th>\n",
       "      <th>lg</th>\n",
       "      <th>tm</th>\n",
       "      <th>...</th>\n",
       "      <th>fg_percent_from_x16_3p_range</th>\n",
       "      <th>fg_percent_from_x3p_range</th>\n",
       "      <th>percent_assisted_x2p_fg</th>\n",
       "      <th>percent_assisted_x3p_fg</th>\n",
       "      <th>percent_dunks_of_fga</th>\n",
       "      <th>num_of_dunks</th>\n",
       "      <th>percent_corner_3s_of_3pa</th>\n",
       "      <th>corner_3_point_percent</th>\n",
       "      <th>num_heaves_attempted</th>\n",
       "      <th>num_heaves_made</th>\n",
       "    </tr>\n",
       "  </thead>\n",
       "  <tbody>\n",
       "    <tr>\n",
       "      <th>0</th>\n",
       "      <td>31871.0</td>\n",
       "      <td>2025</td>\n",
       "      <td>5025.0</td>\n",
       "      <td>A.J. Green</td>\n",
       "      <td>NaN</td>\n",
       "      <td>SG</td>\n",
       "      <td>25</td>\n",
       "      <td>3</td>\n",
       "      <td>NBA</td>\n",
       "      <td>MIL</td>\n",
       "      <td>...</td>\n",
       "      <td>0.368</td>\n",
       "      <td>0.423</td>\n",
       "      <td>0.714</td>\n",
       "      <td>0.938</td>\n",
       "      <td>0.000</td>\n",
       "      <td>0</td>\n",
       "      <td>0.302</td>\n",
       "      <td>0.513</td>\n",
       "      <td>2</td>\n",
       "      <td>1</td>\n",
       "    </tr>\n",
       "    <tr>\n",
       "      <th>1</th>\n",
       "      <td>31872.0</td>\n",
       "      <td>2025</td>\n",
       "      <td>5026.0</td>\n",
       "      <td>A.J. Lawson</td>\n",
       "      <td>NaN</td>\n",
       "      <td>SG</td>\n",
       "      <td>24</td>\n",
       "      <td>3</td>\n",
       "      <td>NBA</td>\n",
       "      <td>TOR</td>\n",
       "      <td>...</td>\n",
       "      <td>NaN</td>\n",
       "      <td>0.400</td>\n",
       "      <td>1.000</td>\n",
       "      <td>1.000</td>\n",
       "      <td>0.125</td>\n",
       "      <td>1</td>\n",
       "      <td>0.200</td>\n",
       "      <td>0.000</td>\n",
       "      <td>0</td>\n",
       "      <td>0</td>\n",
       "    </tr>\n",
       "    <tr>\n",
       "      <th>2</th>\n",
       "      <td>31873.0</td>\n",
       "      <td>2025</td>\n",
       "      <td>5210.0</td>\n",
       "      <td>AJ Johnson</td>\n",
       "      <td>NaN</td>\n",
       "      <td>SG</td>\n",
       "      <td>20</td>\n",
       "      <td>1</td>\n",
       "      <td>NBA</td>\n",
       "      <td>TOT</td>\n",
       "      <td>...</td>\n",
       "      <td>NaN</td>\n",
       "      <td>0.400</td>\n",
       "      <td>0.571</td>\n",
       "      <td>0.750</td>\n",
       "      <td>0.074</td>\n",
       "      <td>1</td>\n",
       "      <td>0.200</td>\n",
       "      <td>1.000</td>\n",
       "      <td>1</td>\n",
       "      <td>0</td>\n",
       "    </tr>\n",
       "    <tr>\n",
       "      <th>3</th>\n",
       "      <td>31874.0</td>\n",
       "      <td>2025</td>\n",
       "      <td>5210.0</td>\n",
       "      <td>AJ Johnson</td>\n",
       "      <td>NaN</td>\n",
       "      <td>SG</td>\n",
       "      <td>20</td>\n",
       "      <td>1</td>\n",
       "      <td>NBA</td>\n",
       "      <td>MIL</td>\n",
       "      <td>...</td>\n",
       "      <td>NaN</td>\n",
       "      <td>0.600</td>\n",
       "      <td>0.600</td>\n",
       "      <td>0.667</td>\n",
       "      <td>0.053</td>\n",
       "      <td>0</td>\n",
       "      <td>0.200</td>\n",
       "      <td>1.000</td>\n",
       "      <td>0</td>\n",
       "      <td>0</td>\n",
       "    </tr>\n",
       "    <tr>\n",
       "      <th>4</th>\n",
       "      <td>31875.0</td>\n",
       "      <td>2025</td>\n",
       "      <td>5210.0</td>\n",
       "      <td>AJ Johnson</td>\n",
       "      <td>NaN</td>\n",
       "      <td>SG</td>\n",
       "      <td>20</td>\n",
       "      <td>1</td>\n",
       "      <td>NBA</td>\n",
       "      <td>WAS</td>\n",
       "      <td>...</td>\n",
       "      <td>NaN</td>\n",
       "      <td>0.200</td>\n",
       "      <td>0.500</td>\n",
       "      <td>1.000</td>\n",
       "      <td>0.125</td>\n",
       "      <td>1</td>\n",
       "      <td>0.200</td>\n",
       "      <td>1.000</td>\n",
       "      <td>1</td>\n",
       "      <td>0</td>\n",
       "    </tr>\n",
       "  </tbody>\n",
       "</table>\n",
       "<p>5 rows × 34 columns</p>\n",
       "</div>"
      ],
      "text/plain": [
       "   seas_id  season  player_id       player  birth_year pos  age  experience  \\\n",
       "0  31871.0    2025     5025.0   A.J. Green         NaN  SG   25           3   \n",
       "1  31872.0    2025     5026.0  A.J. Lawson         NaN  SG   24           3   \n",
       "2  31873.0    2025     5210.0   AJ Johnson         NaN  SG   20           1   \n",
       "3  31874.0    2025     5210.0   AJ Johnson         NaN  SG   20           1   \n",
       "4  31875.0    2025     5210.0   AJ Johnson         NaN  SG   20           1   \n",
       "\n",
       "    lg   tm  ...  fg_percent_from_x16_3p_range  fg_percent_from_x3p_range  \\\n",
       "0  NBA  MIL  ...                         0.368                      0.423   \n",
       "1  NBA  TOR  ...                           NaN                      0.400   \n",
       "2  NBA  TOT  ...                           NaN                      0.400   \n",
       "3  NBA  MIL  ...                           NaN                      0.600   \n",
       "4  NBA  WAS  ...                           NaN                      0.200   \n",
       "\n",
       "   percent_assisted_x2p_fg  percent_assisted_x3p_fg  percent_dunks_of_fga  \\\n",
       "0                    0.714                    0.938                 0.000   \n",
       "1                    1.000                    1.000                 0.125   \n",
       "2                    0.571                    0.750                 0.074   \n",
       "3                    0.600                    0.667                 0.053   \n",
       "4                    0.500                    1.000                 0.125   \n",
       "\n",
       "   num_of_dunks  percent_corner_3s_of_3pa  corner_3_point_percent  \\\n",
       "0             0                     0.302                   0.513   \n",
       "1             1                     0.200                   0.000   \n",
       "2             1                     0.200                   1.000   \n",
       "3             0                     0.200                   1.000   \n",
       "4             1                     0.200                   1.000   \n",
       "\n",
       "   num_heaves_attempted  num_heaves_made  \n",
       "0                     2                1  \n",
       "1                     0                0  \n",
       "2                     1                0  \n",
       "3                     0                0  \n",
       "4                     1                0  \n",
       "\n",
       "[5 rows x 34 columns]"
      ]
     },
     "execution_count": 65,
     "metadata": {},
     "output_type": "execute_result"
    }
   ],
   "source": [
    "df = pd.read_csv('shooting_data.csv', encoding='utf-8')\n",
    "df.head()"
   ]
  },
  {
   "cell_type": "markdown",
   "metadata": {},
   "source": [
    "### Step 3: Understanding the Data\n",
    "Before diving into PCA and clustering, let’s take a quick look at what’s inside this dataset."
   ]
  },
  {
   "cell_type": "code",
   "execution_count": 66,
   "metadata": {},
   "outputs": [
    {
     "name": "stdout",
     "output_type": "stream",
     "text": [
      "<class 'pandas.core.frame.DataFrame'>\n",
      "RangeIndex: 17453 entries, 0 to 17452\n",
      "Data columns (total 34 columns):\n",
      " #   Column                         Non-Null Count  Dtype  \n",
      "---  ------                         --------------  -----  \n",
      " 0   seas_id                        17449 non-null  float64\n",
      " 1   season                         17453 non-null  int64  \n",
      " 2   player_id                      17449 non-null  float64\n",
      " 3   player                         17453 non-null  object \n",
      " 4   birth_year                     200 non-null    float64\n",
      " 5   pos                            17453 non-null  object \n",
      " 6   age                            17453 non-null  int64  \n",
      " 7   experience                     17453 non-null  int64  \n",
      " 8   lg                             17453 non-null  object \n",
      " 9   tm                             17453 non-null  object \n",
      " 10  g                              17453 non-null  int64  \n",
      " 11  mp                             17453 non-null  int64  \n",
      " 12  fg_percent                     17344 non-null  float64\n",
      " 13  avg_dist_fga                   17344 non-null  float64\n",
      " 14  percent_fga_from_x2p_range     17344 non-null  float64\n",
      " 15  percent_fga_from_x0_3_range    17344 non-null  float64\n",
      " 16  percent_fga_from_x3_10_range   17344 non-null  float64\n",
      " 17  percent_fga_from_x10_16_range  17344 non-null  float64\n",
      " 18  percent_fga_from_x16_3p_range  17344 non-null  float64\n",
      " 19  percent_fga_from_x3p_range     17344 non-null  float64\n",
      " 20  fg_percent_from_x2p_range      17258 non-null  float64\n",
      " 21  fg_percent_from_x0_3_range     16850 non-null  float64\n",
      " 22  fg_percent_from_x3_10_range    16515 non-null  float64\n",
      " 23  fg_percent_from_x10_16_range   16036 non-null  float64\n",
      " 24  fg_percent_from_x16_3p_range   15826 non-null  float64\n",
      " 25  fg_percent_from_x3p_range      14993 non-null  float64\n",
      " 26  percent_assisted_x2p_fg        16951 non-null  float64\n",
      " 27  percent_assisted_x3p_fg        12774 non-null  float64\n",
      " 28  percent_dunks_of_fga           17344 non-null  float64\n",
      " 29  num_of_dunks                   17453 non-null  int64  \n",
      " 30  percent_corner_3s_of_3pa       14993 non-null  float64\n",
      " 31  corner_3_point_percent         12851 non-null  float64\n",
      " 32  num_heaves_attempted           17453 non-null  int64  \n",
      " 33  num_heaves_made                17453 non-null  int64  \n",
      "dtypes: float64(22), int64(8), object(4)\n",
      "memory usage: 4.5+ MB\n"
     ]
    }
   ],
   "source": [
    "df.info()"
   ]
  },
  {
   "cell_type": "markdown",
   "metadata": {},
   "source": [
    "This gives us a sense of the features available and what kind of data we’re working with. Specifically, we're interested in shot distribution columns—things like percentage of shots taken from different distances (0-3 ft, 3-10 ft, 10-16 ft, etc.)"
   ]
  },
  {
   "cell_type": "markdown",
   "metadata": {},
   "source": [
    "Next, we’ll clean up the dataset and focus on the key shooting stats. Let’s go!\n",
    "\n",
    "---"
   ]
  },
  {
   "cell_type": "markdown",
   "metadata": {},
   "source": [
    "## Section 3: Data Cleaning and Feature Selection  \n",
    "\n",
    "Now that we’ve loaded the data, it’s time to clean it up and extract the information we need. Since we’re clustering players based on their shot profiles, we need to make sure our dataset is structured properly.  \n",
    "\n",
    "#### 🧹 Step 1: Filtering for the Modern NBA  \n",
    "The dataset includes **every season since 1947**, but the game has changed a lot since then. For example, the three-point line was introduced in 1979/80, and the league has seen a surge in three-point attempts in recent years. \n",
    "\n",
    "We’ll filter the data to include only seasons from **2018/19 to 2023/24** to focus on the modern NBA.\n"
   ]
  },
  {
   "cell_type": "code",
   "execution_count": null,
   "metadata": {},
   "outputs": [],
   "source": [
    "# Convert season to numeric and filter out seasons with little playing time\n",
    "df_shooting = df[df['season'].between(2019, 2024)]\n",
    "df_shooting = df_shooting[df_shooting['g'] > 35]"
   ]
  },
  {
   "cell_type": "markdown",
   "metadata": {},
   "source": [
    "#### ❕ A note on Volume and Efficiency\n",
    "\n",
    "So far, we’ve focused on *where* players take their shots from. But that’s only half the picture. \n",
    "\n",
    "Some players take a lot of shots (think Luka Doncic), while others are more selective (like a role player who mostly spots up for threes, e.g. KCP). \n",
    "\n",
    "To get a fuller understanding of shooting tendencies, we also need to know *how often* players shoot.\n",
    "\n",
    "We might also need to consider *efficiency*. A player might take a lot of mid-range shots, but if they’re not making them at a high clip, they might be better off taking threes or attacking the rim.\n"
   ]
  },
  {
   "cell_type": "code",
   "execution_count": 68,
   "metadata": {},
   "outputs": [],
   "source": [
    "# Get players per 36 minutes stats and filter\n",
    "df_per_36 = pd.read_csv('p36.csv', encoding='utf-8')\n",
    "df_per_36 = df_per_36[df_per_36['season'].between(2014, 2019)]\n",
    "df_per_36 = df_per_36[df_per_36['g'] > 35]"
   ]
  },
  {
   "cell_type": "markdown",
   "metadata": {},
   "source": [
    "#### 🎯 Step 2: Aggregating Players’ Multi-Season Data\n",
    "\n",
    "Since each row in the dataset represents one player’s season, we need to merge multiple seasons into a single row per player.\n",
    "\n",
    "We'll do this separately for both datasets:\n",
    "\n",
    "- **Shooting Table**: Aggregating shot selection percentages (pct_fga_0_3, pct_fga_3p, etc.).\n",
    "- **Per 36 Table**: Aggregating shooting volume (fga_per_36_min, 3pa_per_36_min, etc.) and efficiency (ft_percent).\n",
    "\n",
    "🔹 **Weighted Aggregation**: Not all seasons should count equally. A player who played 80 games should have their stats weigh more than a season with 10 games. So, we’ll weight our aggregation by games played (g)."
   ]
  },
  {
   "cell_type": "code",
   "execution_count": 69,
   "metadata": {},
   "outputs": [],
   "source": [
    "# Define the columns that describe shot profile\n",
    "shot_columns = ['percent_assisted_x2p_fg', 'percent_assisted_x3p_fg',\n",
    "                'percent_fga_from_x0_3_range', 'percent_fga_from_x3_10_range',\n",
    "                'percent_fga_from_x10_16_range', 'percent_fga_from_x16_3p_range',\n",
    "                'percent_fga_from_x3p_range',\n",
    "                'fg_percent_from_x0_3_range', 'fg_percent_from_x3_10_range',\n",
    "                'fg_percent_from_x10_16_range', 'fg_percent_from_x16_3p_range',\n",
    "                'fg_percent_from_x2p_range',\n",
    "                'fg_percent_from_x3p_range',\n",
    "                'percent_corner_3s_of_3pa', 'corner_3_point_percent',\n",
    "                'percent_dunks_of_fga', 'num_of_dunks']\n",
    "\n",
    "volume_columns = ['fga_per_36_min',\n",
    "                  'x2pa_per_36_min',\n",
    "                  'x3pa_per_36_min',\n",
    "                  'fta_per_36_min', 'ft_percent',]\n",
    "\n",
    "\n",
    "# Aggregate shot selection data\n",
    "df_shooting_grouped = df_shooting.groupby('player_id').apply(lambda x: \n",
    "    (x[shot_columns].multiply(x['g'], axis=0)).sum() / x['g'].sum()\n",
    ").reset_index()\n",
    "\n",
    "# Aggregate volume data\n",
    "df_per_36_grouped = df_per_36.groupby('player_id').apply(lambda x: \n",
    "    (x[volume_columns].multiply(x['g'], axis=0)).sum() / x['g'].sum()\n",
    ").reset_index()"
   ]
  },
  {
   "cell_type": "markdown",
   "metadata": {},
   "source": [
    "#### 🔗 Step 3: Merging Shot Selection & Volume Data\n",
    "Now that both datasets are aggregated at the player level, we can merge them."
   ]
  },
  {
   "cell_type": "code",
   "execution_count": 70,
   "metadata": {},
   "outputs": [],
   "source": [
    "# Retain player names\n",
    "player_names = df_shooting[['player_id', 'player']].drop_duplicates(subset='player_id')\n",
    "\n",
    "# Merge on player_id\n",
    "df_final = df_shooting_grouped.merge(df_per_36_grouped, on='player_id')\n",
    "\n",
    "# Add player names back\n",
    "df_final = df_final.merge(player_names, on='player_id', how='left')\n"
   ]
  },
  {
   "cell_type": "markdown",
   "metadata": {},
   "source": [
    "#### 🔑 Step 4: Choosing Features for Clustering\n",
    "\n",
    "Now we have a much better dataset for clustering. Here’s what we’re working with:\n",
    "- ✅ **Shot Selection** → % of FGAs from different distances (close-range, mid-range, three-pointers).\n",
    "- ✅ **Shot Volume** → How many shots a player attempts per 36 minutes.\n",
    "- ✅ **Free Throw %** → A useful efficiency metric (good shooters tend to have strong FT%)."
   ]
  },
  {
   "cell_type": "markdown",
   "metadata": {},
   "source": [
    "\n",
    "| Feature                        | Meaning                                                                 |\n",
    "|--------------------------------|-------------------------------------------------------------------------|\n",
    "| percent_assisted_x2p_fg        | % of 2-point field goals that were assisted                    |\n",
    "| percent_assisted_x3p_fg        | % of 3-point field goals that were assisted                    |\n",
    "| percent_fga_from_x0_3_range    | % of shots at the rim                         |\n",
    "| percent_fga_from_x3_10_range   | % of short mid-range shots                        |\n",
    "| percent_fga_from_x10_16_range  | % of deep mid-range shots                       |\n",
    "| percent_fga_from_x16_3p_range  | % of long two-pointers      |\n",
    "| percent_fga_from_x3p_range     | % of three-pointers          |\n",
    "| fg_percent_from_x0_3_range     | FG% of shots at the rim                                     |\n",
    "| fg_percent_from_x3_10_range    | FG% of short mid-range shots                                    |\n",
    "| fg_percent_from_x10_16_range   | FG% of deep mid-range shots                                   |\n",
    "| fg_percent_from_x16_3p_range   | FG% of long two-pointers                  |\n",
    "| fg_percent_from_x3p_range      | FG% of three-pointers                      |\n",
    "| percent_corner_3s_of_3pa       | % of three-pointers that are corner 3s                 |\n",
    "| corner_3_point_percent         | 3P% of corner 3s                                      |\n",
    "| percent_dunks_of_fga           | % of field goal attempts that are dunks                        |\n",
    "| num_of_dunks                   | Number of dunks                                                         |\n",
    "| fga_per_36_min                 | Total FGA per 36 min                                      |\n",
    "| x2pa_per_36_min                | Two-point attempts per 36 min                         |\n",
    "| x3pa_per_36_min                | Three-point attempts per 36 min                              |\n",
    "| fta_per_36_min                 | Free throw attempts per 36 min                                      |\n",
    "| ft_percent                     | Free throw percentage                                                   |"
   ]
  },
  {
   "cell_type": "markdown",
   "metadata": {},
   "source": [
    "🚀 Next Up: Standardizing the data & running PCA to simplify our clustering!\n",
    "\n",
    "---"
   ]
  },
  {
   "cell_type": "markdown",
   "metadata": {},
   "source": [
    "## Section 4: Standardization and Dimensionality Reduction\n",
    "\n",
    "Now that we have cleaned up and enhanced our dataset, we can move on to standardizing the data and applying Principal Component Analysis (PCA).\n",
    "\n",
    "This is important because:\n",
    "\n",
    "- Clustering techniques perform better on standardized data 📏\n",
    "- Some stats (like x3pa_per_36_min) have much larger values than others (ft_percent), so we don’t want one feature dominating\n",
    "\n",
    "##### 🤔 What is Standardization?\n",
    "Standardization is the process of transforming data so that it has a mean of 0 and a standard deviation of 1. This ensures all features are on the same scale, making it easier for our clustering algorithm to find patterns.\n",
    "\n",
    "![scaling.png](scaling.png)\n",
    "\n",
    "##### 🙇‍♂️ And Dimensionality Reduction? PCA??\n",
    "PCA is a mathematical technique that:\n",
    "\n",
    "1. Finds the most important patterns in our data\n",
    "2. Condenses the information into fewer variables (called **principal components**)\n",
    "3. Preserves as much of the original variation as possible\n",
    "\n",
    "Instead of looking at every shooting stat separately, PCA lets us combine them into a few “super stats” that capture the biggest differences between players.\n",
    "\n",
    "##### 🤷🏾‍♂️ Why use PCA?\n",
    "\n",
    "- Makes clustering **more effective** by removing unnecessary details\n",
    "- **Speeds up** computation (fewer dimensions = less work for our algorithm)\n",
    "- Helps **visualize** the data (we can plot players in 2D!)\n",
    "\n",
    "Think of it like summarizing a player’s shooting profile into the fewest meaningful numbers possible.\n",
    "\n",
    "🚀 Next Step: Applying PCA to Our Shooting Data\n",
    "\n",
    "---"
   ]
  },
  {
   "cell_type": "markdown",
   "metadata": {},
   "source": [
    "#### 🏀 Step 1: Applying PCA to Player Shooting Data\n",
    "Since PCA works best when data is standardized, we will:\n",
    "\n",
    "1. **Select relevant shooting stats**\n",
    "2. **Scale the data** so all stats contribute equally\n",
    "3. **Apply PCA** and check how many components explain most of the variation"
   ]
  },
  {
   "cell_type": "code",
   "execution_count": 71,
   "metadata": {},
   "outputs": [
    {
     "data": {
      "image/png": "[encoded data removed]",
      "text/plain": [
       "<Figure size 1000x600 with 1 Axes>"
      ]
     },
     "metadata": {},
     "output_type": "display_data"
    }
   ],
   "source": [
    "# Select relevant stats for PCA\n",
    "# features = [*shot_columns, *volume_columns]\n",
    "features = ['percent_assisted_x2p_fg', 'percent_assisted_x3p_fg',\n",
    "            'percent_fga_from_x0_3_range', 'percent_fga_from_x3_10_range',\n",
    "            'percent_fga_from_x10_16_range', 'percent_fga_from_x16_3p_range',\n",
    "            'percent_fga_from_x3p_range',\n",
    "            # 'fg_percent_from_x0_3_range', 'fg_percent_from_x3_10_range',\n",
    "            # 'fg_percent_from_x10_16_range', 'fg_percent_from_x16_3p_range',\n",
    "            'fg_percent_from_x2p_range',\n",
    "            'fg_percent_from_x3p_range',\n",
    "            'fga_per_36_min',\n",
    "            # 'x2pa_per_36_min',\n",
    "            # 'x3pa_per_36_min',\n",
    "            ]\n",
    "\n",
    "df_cluster = df_final[features]\n",
    "\n",
    "# Standardize the features\n",
    "scaler = StandardScaler()\n",
    "df_scaled = scaler.fit_transform(df_cluster)\n",
    "\n",
    "# Apply PCA\n",
    "pca = PCA()\n",
    "df_pca = pca.fit_transform(df_scaled)\n",
    "\n",
    "# Plot explained variance\n",
    "plt.figure(figsize=(10, 6))\n",
    "plt.plot(np.cumsum(pca.explained_variance_ratio_))\n",
    "plt.xlabel('Number of Components')\n",
    "plt.ylabel('Explained Variance')\n",
    "plt.title('Explained Variance vs Number of Components')\n",
    "plt.show()"
   ]
  },
  {
   "cell_type": "code",
   "execution_count": 72,
   "metadata": {},
   "outputs": [
    {
     "data": {
      "image/png": "[encoded data removed]",
      "text/plain": [
       "<Figure size 1000x600 with 1 Axes>"
      ]
     },
     "metadata": {},
     "output_type": "display_data"
    }
   ],
   "source": [
    "# Scree plot histogram\n",
    "\n",
    "plt.figure(figsize=(10, 6))\n",
    "plt.bar(range(len(pca.explained_variance_ratio_)), pca.explained_variance_ratio_)\n",
    "plt.xlabel('Principal Component')\n",
    "plt.ylabel('Explained Variance')\n",
    "plt.title('Scree Plot')\n",
    "plt.show()"
   ]
  },
  {
   "cell_type": "markdown",
   "metadata": {},
   "source": [
    "Looking at the plot, we can see that most of the variance is captured within the first 3 to 5 components.\n",
    "\n",
    "🔍 How Many Principal Components to Keep?\n",
    "- The elbow point (where the curve starts flattening) looks to be around 3 or 4 components.\n",
    "- Keeping 3 components should retain around 80-85% of the variance, which is solid for clustering.\n",
    "- Keeping 4 components pushes us closer to 90% variance, making the representation even richer.\n",
    "\n",
    "Since we want to visualize players in 2D, we’ll likely use only the first 2 components."
   ]
  },
  {
   "cell_type": "markdown",
   "metadata": {},
   "source": [
    "#### 🏀 Step 2: Transform the Data with PCA\n",
    "We will:\n",
    "\n",
    "- Extract the first 2 principal components that we identified earlier.\n",
    "- Create a 2D representation of each player's shooting tendencies, which will help us visualize how similar (or different) players are.\n",
    "- Plot the players in 2D space to see if we can spot any natural groupings.\n",
    "- Make the plot interactive (with `plotly`) so we can hover over players and see their shooting splits."
   ]
  },
  {
   "cell_type": "code",
   "execution_count": 73,
   "metadata": {},
   "outputs": [],
   "source": [
    "# Now let's transform the scaled data to get the first 2 principal components\n",
    "pca = PCA(n_components=2)\n",
    "df_pca_2d = pca.fit_transform(df_scaled)\n",
    "\n",
    "# Adding the transformed data (first 2 components) to our dataframe\n",
    "df_final['pca_1'] = df_pca_2d[:, 0]\n",
    "df_final['pca_2'] = df_pca_2d[:, 1]\n",
    "\n",
    "# Let's visualize the transformed data\n",
    "# plt.figure(figsize=(10, 8))\n",
    "# plt.scatter(df_final['pca_1'], df_final['pca_2'], c=df_final['pca_1'], cmap='viridis')\n",
    "# plt.colorbar(label='Principal Component 1')\n",
    "# plt.xlabel('Principal Component 1')\n",
    "# plt.ylabel('Principal Component 2')\n",
    "# plt.title('PCA - Player Shooting Tendencies')\n",
    "# plt.show()\n"
   ]
  },
  {
   "cell_type": "code",
   "execution_count": 74,
   "metadata": {},
   "outputs": [
    {
     "data": {
      "application/vnd.plotly.v1+json": {
       "config": {
        "plotlyServerURL": "https://plot.ly"
       },
       "data": [
        {
         "customdata": [
          [
           "Dirk Nowitzki<br>0 - 3ft: 1.1%<br>3 - 10ft: 6.4%<br>10 - 16ft: 14.4%<br>16 - 3pt: 23.7%<br>3pt: 54.5%"
          ],
          [
           "Vince Carter<br>0 - 3ft: 11.7%<br>3 - 10ft: 7.6%<br>10 - 16ft: 8.1%<br>16 - 3pt: 5.6%<br>3pt: 67.0%"
          ],
          [
           "Jamal Crawford<br>0 - 3ft: 4.3%<br>3 - 10ft: 6.8%<br>10 - 16ft: 17.8%<br>16 - 3pt: 24.9%<br>3pt: 46.1%"
          ],
          [
           "Tony Parker<br>0 - 3ft: 30.5%<br>3 - 10ft: 19.2%<br>10 - 16ft: 13.4%<br>16 - 3pt: 25.9%<br>3pt: 11.0%"
          ],
          [
           "Tyson Chandler<br>0 - 3ft: 82.8%<br>3 - 10ft: 15.0%<br>10 - 16ft: 0.0%<br>16 - 3pt: 1.0%<br>3pt: 1.0%"
          ],
          [
           "Nenê<br>0 - 3ft: 38.8%<br>3 - 10ft: 29.3%<br>10 - 16ft: 10.3%<br>16 - 3pt: 19.0%<br>3pt: 2.6%"
          ],
          [
           "Carmelo Anthony<br>0 - 3ft: 11.4%<br>3 - 10ft: 8.2%<br>10 - 16ft: 20.7%<br>16 - 3pt: 17.0%<br>3pt: 42.6%"
          ],
          [
           "Dwyane Wade<br>0 - 3ft: 24.6%<br>3 - 10ft: 16.8%<br>10 - 16ft: 20.3%<br>16 - 3pt: 11.1%<br>3pt: 27.2%"
          ],
          [
           "Kyle Korver<br>0 - 3ft: 3.5%<br>3 - 10ft: 2.3%<br>10 - 16ft: 4.5%<br>16 - 3pt: 14.8%<br>3pt: 74.9%"
          ],
          [
           "LeBron James<br>0 - 3ft: 34.1%<br>3 - 10ft: 16.1%<br>10 - 16ft: 8.0%<br>16 - 3pt: 9.8%<br>3pt: 32.0%"
          ],
          [
           "Zaza Pachulia<br>0 - 3ft: 52.3%<br>3 - 10ft: 21.2%<br>10 - 16ft: 9.8%<br>16 - 3pt: 14.5%<br>3pt: 2.1%"
          ],
          [
           "Andre Iguodala<br>0 - 3ft: 25.0%<br>3 - 10ft: 4.9%<br>10 - 16ft: 4.4%<br>16 - 3pt: 5.5%<br>3pt: 60.1%"
          ],
          [
           "Devin Harris<br>0 - 3ft: 21.0%<br>3 - 10ft: 13.0%<br>10 - 16ft: 2.3%<br>16 - 3pt: 6.1%<br>3pt: 57.6%"
          ],
          [
           "Dwight Howard<br>0 - 3ft: 70.1%<br>3 - 10ft: 21.2%<br>10 - 16ft: 1.9%<br>16 - 3pt: 1.8%<br>3pt: 5.0%"
          ],
          [
           "Shaun Livingston<br>0 - 3ft: 31.0%<br>3 - 10ft: 21.9%<br>10 - 16ft: 41.9%<br>16 - 3pt: 4.3%<br>3pt: 1.0%"
          ],
          [
           "Trevor Ariza<br>0 - 3ft: 26.6%<br>3 - 10ft: 8.2%<br>10 - 16ft: 2.1%<br>16 - 3pt: 2.9%<br>3pt: 60.3%"
          ],
          [
           "Amir Johnson<br>0 - 3ft: 42.7%<br>3 - 10ft: 28.0%<br>10 - 16ft: 1.9%<br>16 - 3pt: 1.9%<br>3pt: 25.5%"
          ],
          [
           "C.J. Miles<br>0 - 3ft: 13.0%<br>3 - 10ft: 8.1%<br>10 - 16ft: 6.4%<br>16 - 3pt: 6.7%<br>3pt: 65.8%"
          ],
          [
           "Channing Frye<br>0 - 3ft: 4.3%<br>3 - 10ft: 7.7%<br>10 - 16ft: 8.5%<br>16 - 3pt: 12.0%<br>3pt: 67.5%"
          ],
          [
           "Chris Paul<br>0 - 3ft: 4.9%<br>3 - 10ft: 12.7%<br>10 - 16ft: 29.2%<br>16 - 3pt: 16.4%<br>3pt: 36.8%"
          ],
          [
           "Gerald Green<br>0 - 3ft: 9.7%<br>3 - 10ft: 6.4%<br>10 - 16ft: 4.0%<br>16 - 3pt: 3.6%<br>3pt: 76.3%"
          ],
          [
           "José Calderón<br>0 - 3ft: 10.0%<br>3 - 10ft: 5.8%<br>10 - 16ft: 10.8%<br>16 - 3pt: 25.8%<br>3pt: 47.5%"
          ],
          [
           "Lou Williams<br>0 - 3ft: 16.3%<br>3 - 10ft: 18.9%<br>10 - 16ft: 19.4%<br>16 - 3pt: 16.4%<br>3pt: 29.0%"
          ],
          [
           "Marvin Williams<br>0 - 3ft: 14.5%<br>3 - 10ft: 19.8%<br>10 - 16ft: 5.2%<br>16 - 3pt: 2.7%<br>3pt: 57.8%"
          ],
          [
           "Ersan İlyasova<br>0 - 3ft: 32.8%<br>3 - 10ft: 13.8%<br>10 - 16ft: 5.9%<br>16 - 3pt: 4.5%<br>3pt: 42.9%"
          ],
          [
           "J.J. Barea<br>0 - 3ft: 20.3%<br>3 - 10ft: 22.1%<br>10 - 16ft: 13.8%<br>16 - 3pt: 10.6%<br>3pt: 33.2%"
          ],
          [
           "J.J. Redick<br>0 - 3ft: 6.2%<br>3 - 10ft: 3.9%<br>10 - 16ft: 5.9%<br>16 - 3pt: 21.9%<br>3pt: 62.1%"
          ],
          [
           "Kyle Lowry<br>0 - 3ft: 15.1%<br>3 - 10ft: 9.7%<br>10 - 16ft: 7.0%<br>16 - 3pt: 6.5%<br>3pt: 61.7%"
          ],
          [
           "LaMarcus Aldridge<br>0 - 3ft: 23.5%<br>3 - 10ft: 19.2%<br>10 - 16ft: 24.2%<br>16 - 3pt: 23.4%<br>3pt: 9.8%"
          ],
          [
           "P.J. Tucker<br>0 - 3ft: 16.8%<br>3 - 10ft: 13.8%<br>10 - 16ft: 3.9%<br>16 - 3pt: 1.6%<br>3pt: 63.9%"
          ],
          [
           "Paul Millsap<br>0 - 3ft: 31.0%<br>3 - 10ft: 28.6%<br>10 - 16ft: 9.7%<br>16 - 3pt: 1.8%<br>3pt: 28.9%"
          ],
          [
           "Rajon Rondo<br>0 - 3ft: 30.4%<br>3 - 10ft: 18.0%<br>10 - 16ft: 5.8%<br>16 - 3pt: 5.7%<br>3pt: 40.2%"
          ],
          [
           "Rudy Gay<br>0 - 3ft: 14.8%<br>3 - 10ft: 17.0%<br>10 - 16ft: 16.6%<br>16 - 3pt: 11.5%<br>3pt: 40.2%"
          ],
          [
           "Thabo Sefolosha<br>0 - 3ft: 25.8%<br>3 - 10ft: 8.9%<br>10 - 16ft: 3.7%<br>16 - 3pt: 6.2%<br>3pt: 55.5%"
          ],
          [
           "Al Horford<br>0 - 3ft: 18.6%<br>3 - 10ft: 18.3%<br>10 - 16ft: 7.3%<br>16 - 3pt: 7.5%<br>3pt: 48.4%"
          ],
          [
           "Ian Mahinmi<br>0 - 3ft: 48.1%<br>3 - 10ft: 35.2%<br>10 - 16ft: 2.9%<br>16 - 3pt: 1.4%<br>3pt: 12.4%"
          ],
          [
           "Jared Dudley<br>0 - 3ft: 19.1%<br>3 - 10ft: 7.4%<br>10 - 16ft: 1.4%<br>16 - 3pt: 6.0%<br>3pt: 66.1%"
          ],
          [
           "Jeff Green<br>0 - 3ft: 27.1%<br>3 - 10ft: 20.0%<br>10 - 16ft: 6.9%<br>16 - 3pt: 3.9%<br>3pt: 42.1%"
          ],
          [
           "Joakim Noah<br>0 - 3ft: 69.5%<br>3 - 10ft: 21.1%<br>10 - 16ft: 1.9%<br>16 - 3pt: 7.0%<br>3pt: 0.5%"
          ],
          [
           "Kevin Durant<br>0 - 3ft: 13.6%<br>3 - 10ft: 14.1%<br>10 - 16ft: 27.9%<br>16 - 3pt: 16.9%<br>3pt: 27.4%"
          ],
          [
           "Marcin Gortat<br>0 - 3ft: 50.0%<br>3 - 10ft: 31.2%<br>10 - 16ft: 17.7%<br>16 - 3pt: 1.1%<br>3pt: 0.0%"
          ],
          [
           "Marco Belinelli<br>0 - 3ft: 10.1%<br>3 - 10ft: 5.9%<br>10 - 16ft: 7.1%<br>16 - 3pt: 19.9%<br>3pt: 57.0%"
          ],
          [
           "Mike Conley<br>0 - 3ft: 10.9%<br>3 - 10ft: 20.1%<br>10 - 16ft: 11.5%<br>16 - 3pt: 5.2%<br>3pt: 52.3%"
          ],
          [
           "Thaddeus Young<br>0 - 3ft: 40.3%<br>3 - 10ft: 34.7%<br>10 - 16ft: 3.5%<br>16 - 3pt: 2.5%<br>3pt: 19.1%"
          ],
          [
           "Wilson Chandler<br>0 - 3ft: 18.3%<br>3 - 10ft: 11.1%<br>10 - 16ft: 6.2%<br>16 - 3pt: 6.9%<br>3pt: 57.5%"
          ],
          [
           "Anthony Tolliver<br>0 - 3ft: 10.1%<br>3 - 10ft: 4.9%<br>10 - 16ft: 1.2%<br>16 - 3pt: 2.5%<br>3pt: 81.5%"
          ],
          [
           "Brook Lopez<br>0 - 3ft: 23.8%<br>3 - 10ft: 15.5%<br>10 - 16ft: 7.9%<br>16 - 3pt: 2.3%<br>3pt: 50.6%"
          ],
          [
           "D.J. Augustin<br>0 - 3ft: 18.3%<br>3 - 10ft: 12.1%<br>10 - 16ft: 7.3%<br>16 - 3pt: 5.4%<br>3pt: 57.0%"
          ],
          [
           "Danilo Gallinari<br>0 - 3ft: 15.0%<br>3 - 10ft: 9.8%<br>10 - 16ft: 12.6%<br>16 - 3pt: 13.5%<br>3pt: 49.2%"
          ],
          [
           "DeAndre Jordan<br>0 - 3ft: 83.1%<br>3 - 10ft: 15.0%<br>10 - 16ft: 1.0%<br>16 - 3pt: 0.7%<br>3pt: 0.2%"
          ],
          [
           "Derrick Rose<br>0 - 3ft: 27.6%<br>3 - 10ft: 22.2%<br>10 - 16ft: 15.6%<br>16 - 3pt: 14.6%<br>3pt: 20.0%"
          ],
          [
           "Eric Gordon<br>0 - 3ft: 18.9%<br>3 - 10ft: 18.6%<br>10 - 16ft: 2.8%<br>16 - 3pt: 0.8%<br>3pt: 58.8%"
          ],
          [
           "George Hill<br>0 - 3ft: 27.9%<br>3 - 10ft: 10.2%<br>10 - 16ft: 7.5%<br>16 - 3pt: 6.8%<br>3pt: 47.6%"
          ],
          [
           "Goran Dragić<br>0 - 3ft: 20.2%<br>3 - 10ft: 14.3%<br>10 - 16ft: 14.9%<br>16 - 3pt: 7.2%<br>3pt: 43.4%"
          ],
          [
           "JaVale McGee<br>0 - 3ft: 57.0%<br>3 - 10ft: 32.9%<br>10 - 16ft: 5.2%<br>16 - 3pt: 1.5%<br>3pt: 3.5%"
          ],
          [
           "Kevin Love<br>0 - 3ft: 12.1%<br>3 - 10ft: 11.0%<br>10 - 16ft: 6.5%<br>16 - 3pt: 6.1%<br>3pt: 64.3%"
          ],
          [
           "Kosta Koufos<br>0 - 3ft: 30.7%<br>3 - 10ft: 50.3%<br>10 - 16ft: 17.6%<br>16 - 3pt: 1.3%<br>3pt: 0.0%"
          ],
          [
           "Marc Gasol<br>0 - 3ft: 13.5%<br>3 - 10ft: 20.8%<br>10 - 16ft: 14.3%<br>16 - 3pt: 8.4%<br>3pt: 43.0%"
          ],
          [
           "Nicolas Batum<br>0 - 3ft: 16.4%<br>3 - 10ft: 4.5%<br>10 - 16ft: 4.5%<br>16 - 3pt: 5.4%<br>3pt: 69.3%"
          ],
          [
           "Robin Lopez<br>0 - 3ft: 31.1%<br>3 - 10ft: 50.7%<br>10 - 16ft: 4.1%<br>16 - 3pt: 2.2%<br>3pt: 11.8%"
          ],
          [
           "Russell Westbrook<br>0 - 3ft: 32.9%<br>3 - 10ft: 20.5%<br>10 - 16ft: 11.0%<br>16 - 3pt: 11.4%<br>3pt: 24.3%"
          ],
          [
           "Danny Green<br>0 - 3ft: 9.6%<br>3 - 10ft: 7.1%<br>10 - 16ft: 4.3%<br>16 - 3pt: 4.0%<br>3pt: 75.1%"
          ],
          [
           "Dante Cunningham<br>0 - 3ft: 29.1%<br>3 - 10ft: 15.2%<br>10 - 16ft: 6.3%<br>16 - 3pt: 8.2%<br>3pt: 41.1%"
          ],
          [
           "Darren Collison<br>0 - 3ft: 25.0%<br>3 - 10ft: 6.4%<br>10 - 16ft: 8.5%<br>16 - 3pt: 30.7%<br>3pt: 29.4%"
          ],
          [
           "DeMar DeRozan<br>0 - 3ft: 19.6%<br>3 - 10ft: 19.8%<br>10 - 16ft: 27.1%<br>16 - 3pt: 24.7%<br>3pt: 8.7%"
          ],
          [
           "DeMarre Carroll<br>0 - 3ft: 20.3%<br>3 - 10ft: 14.1%<br>10 - 16ft: 7.1%<br>16 - 3pt: 4.5%<br>3pt: 53.9%"
          ],
          [
           "Garrett Temple<br>0 - 3ft: 20.6%<br>3 - 10ft: 7.5%<br>10 - 16ft: 7.2%<br>16 - 3pt: 6.9%<br>3pt: 57.8%"
          ],
          [
           "James Harden<br>0 - 3ft: 21.2%<br>3 - 10ft: 20.0%<br>10 - 16ft: 6.0%<br>16 - 3pt: 2.1%<br>3pt: 50.7%"
          ],
          [
           "James Johnson<br>0 - 3ft: 38.9%<br>3 - 10ft: 19.4%<br>10 - 16ft: 5.0%<br>16 - 3pt: 2.5%<br>3pt: 34.2%"
          ],
          [
           "Jeff Teague<br>0 - 3ft: 25.2%<br>3 - 10ft: 30.1%<br>10 - 16ft: 12.5%<br>16 - 3pt: 6.3%<br>3pt: 26.0%"
          ],
          [
           "Jonas Jerebko<br>0 - 3ft: 26.2%<br>3 - 10ft: 7.9%<br>10 - 16ft: 4.2%<br>16 - 3pt: 8.7%<br>3pt: 53.0%"
          ],
          [
           "Jrue Holiday<br>0 - 3ft: 25.0%<br>3 - 10ft: 21.5%<br>10 - 16ft: 10.4%<br>16 - 3pt: 6.3%<br>3pt: 36.9%"
          ],
          [
           "Omri Casspi<br>0 - 3ft: 46.0%<br>3 - 10ft: 25.5%<br>10 - 16ft: 1.9%<br>16 - 3pt: 0.0%<br>3pt: 26.7%"
          ],
          [
           "Patty Mills<br>0 - 3ft: 10.2%<br>3 - 10ft: 4.9%<br>10 - 16ft: 4.5%<br>16 - 3pt: 13.4%<br>3pt: 67.0%"
          ],
          [
           "Serge Ibaka<br>0 - 3ft: 23.6%<br>3 - 10ft: 25.6%<br>10 - 16ft: 11.8%<br>16 - 3pt: 12.2%<br>3pt: 26.9%"
          ],
          [
           "Stephen Curry<br>0 - 3ft: 11.8%<br>3 - 10ft: 14.5%<br>10 - 16ft: 5.9%<br>16 - 3pt: 8.2%<br>3pt: 59.6%"
          ],
          [
           "Taj Gibson<br>0 - 3ft: 48.9%<br>3 - 10ft: 20.6%<br>10 - 16ft: 9.3%<br>16 - 3pt: 9.3%<br>3pt: 11.9%"
          ],
          [
           "Tyreke Evans<br>0 - 3ft: 38.8%<br>3 - 10ft: 13.8%<br>10 - 16ft: 1.5%<br>16 - 3pt: 13.2%<br>3pt: 32.7%"
          ],
          [
           "Wayne Ellington<br>0 - 3ft: 6.0%<br>3 - 10ft: 4.1%<br>10 - 16ft: 2.2%<br>16 - 3pt: 4.4%<br>3pt: 83.4%"
          ],
          [
           "Wesley Matthews<br>0 - 3ft: 12.2%<br>3 - 10ft: 9.6%<br>10 - 16ft: 6.8%<br>16 - 3pt: 2.7%<br>3pt: 68.8%"
          ],
          [
           "Al-Farouq Aminu<br>0 - 3ft: 35.1%<br>3 - 10ft: 10.5%<br>10 - 16ft: 2.9%<br>16 - 3pt: 4.4%<br>3pt: 47.2%"
          ],
          [
           "Avery Bradley<br>0 - 3ft: 16.0%<br>3 - 10ft: 9.7%<br>10 - 16ft: 7.5%<br>16 - 3pt: 19.9%<br>3pt: 47.0%"
          ],
          [
           "Blake Griffin<br>0 - 3ft: 30.1%<br>3 - 10ft: 18.9%<br>10 - 16ft: 3.5%<br>16 - 3pt: 2.2%<br>3pt: 45.4%"
          ],
          [
           "DeMarcus Cousins<br>0 - 3ft: 35.5%<br>3 - 10ft: 20.0%<br>10 - 16ft: 1.4%<br>16 - 3pt: 2.4%<br>3pt: 40.7%"
          ],
          [
           "Derrick Favors<br>0 - 3ft: 55.5%<br>3 - 10ft: 19.7%<br>10 - 16ft: 11.8%<br>16 - 3pt: 6.9%<br>3pt: 6.2%"
          ],
          [
           "Ed Davis<br>0 - 3ft: 79.8%<br>3 - 10ft: 18.9%<br>10 - 16ft: 0.3%<br>16 - 3pt: 0.3%<br>3pt: 0.7%"
          ],
          [
           "Ekpe Udoh<br>0 - 3ft: 59.7%<br>3 - 10ft: 31.9%<br>10 - 16ft: 6.9%<br>16 - 3pt: 1.4%<br>3pt: 0.0%"
          ],
          [
           "Eric Bledsoe<br>0 - 3ft: 28.1%<br>3 - 10ft: 16.4%<br>10 - 16ft: 9.3%<br>16 - 3pt: 7.4%<br>3pt: 38.7%"
          ],
          [
           "Evan Turner<br>0 - 3ft: 30.5%<br>3 - 10ft: 20.5%<br>10 - 16ft: 22.8%<br>16 - 3pt: 14.4%<br>3pt: 11.7%"
          ],
          [
           "Gordon Hayward<br>0 - 3ft: 21.3%<br>3 - 10ft: 18.4%<br>10 - 16ft: 16.3%<br>16 - 3pt: 12.8%<br>3pt: 31.1%"
          ],
          [
           "Greg Monroe<br>0 - 3ft: 54.9%<br>3 - 10ft: 35.1%<br>10 - 16ft: 5.7%<br>16 - 3pt: 1.7%<br>3pt: 2.6%"
          ],
          [
           "Hassan Whiteside<br>0 - 3ft: 51.9%<br>3 - 10ft: 34.3%<br>10 - 16ft: 8.9%<br>16 - 3pt: 3.8%<br>3pt: 1.1%"
          ],
          [
           "Ish Smith<br>0 - 3ft: 20.2%<br>3 - 10ft: 20.1%<br>10 - 16ft: 20.7%<br>16 - 3pt: 21.9%<br>3pt: 17.0%"
          ],
          [
           "Jeremy Lin<br>0 - 3ft: 30.8%<br>3 - 10ft: 14.6%<br>10 - 16ft: 11.8%<br>16 - 3pt: 8.3%<br>3pt: 34.4%"
          ],
          [
           "John Wall<br>0 - 3ft: 29.3%<br>3 - 10ft: 13.9%<br>10 - 16ft: 5.4%<br>16 - 3pt: 17.1%<br>3pt: 34.3%"
          ],
          [
           "Lance Stephenson<br>0 - 3ft: 23.0%<br>3 - 10ft: 13.0%<br>10 - 16ft: 6.3%<br>16 - 3pt: 21.9%<br>3pt: 35.8%"
          ],
          [
           "Patrick Patterson<br>0 - 3ft: 15.2%<br>3 - 10ft: 8.2%<br>10 - 16ft: 6.0%<br>16 - 3pt: 2.6%<br>3pt: 68.0%"
          ],
          [
           "Paul George<br>0 - 3ft: 16.5%<br>3 - 10ft: 12.4%<br>10 - 16ft: 11.7%<br>16 - 3pt: 13.3%<br>3pt: 46.0%"
          ],
          [
           "Quincy Pondexter<br>0 - 3ft: 43.1%<br>3 - 10ft: 12.1%<br>10 - 16ft: 10.3%<br>16 - 3pt: 3.4%<br>3pt: 31.0%"
          ],
          [
           "Wesley Johnson<br>0 - 3ft: 10.2%<br>3 - 10ft: 3.1%<br>10 - 16ft: 8.6%<br>16 - 3pt: 18.8%<br>3pt: 59.4%"
          ],
          [
           "Alec Burks<br>0 - 3ft: 15.4%<br>3 - 10ft: 15.4%<br>10 - 16ft: 11.7%<br>16 - 3pt: 9.5%<br>3pt: 48.0%"
          ],
          [
           "Bismack Biyombo<br>0 - 3ft: 57.0%<br>3 - 10ft: 35.5%<br>10 - 16ft: 6.2%<br>16 - 3pt: 1.1%<br>3pt: 0.1%"
          ],
          [
           "Brandon Knight<br>0 - 3ft: 11.9%<br>3 - 10ft: 13.8%<br>10 - 16ft: 14.2%<br>16 - 3pt: 10.4%<br>3pt: 49.6%"
          ],
          [
           "Cory Joseph<br>0 - 3ft: 17.1%<br>3 - 10ft: 20.5%<br>10 - 16ft: 12.6%<br>16 - 3pt: 12.0%<br>3pt: 37.8%"
          ],
          [
           "E'Twaun Moore<br>0 - 3ft: 18.8%<br>3 - 10ft: 24.9%<br>10 - 16ft: 13.0%<br>16 - 3pt: 7.6%<br>3pt: 35.7%"
          ],
          [
           "Enes Freedom<br>0 - 3ft: 66.2%<br>3 - 10ft: 24.7%<br>10 - 16ft: 3.6%<br>16 - 3pt: 2.4%<br>3pt: 2.9%"
          ],
          [
           "Iman Shumpert<br>0 - 3ft: 11.9%<br>3 - 10ft: 3.2%<br>10 - 16ft: 6.8%<br>16 - 3pt: 18.2%<br>3pt: 59.9%"
          ],
          [
           "Isaiah Thomas<br>0 - 3ft: 6.6%<br>3 - 10ft: 15.7%<br>10 - 16ft: 18.5%<br>16 - 3pt: 14.8%<br>3pt: 44.4%"
          ],
          [
           "Jimmy Butler<br>0 - 3ft: 31.3%<br>3 - 10ft: 26.8%<br>10 - 16ft: 15.9%<br>16 - 3pt: 9.5%<br>3pt: 16.4%"
          ],
          [
           "Jon Leuer<br>0 - 3ft: 38.9%<br>3 - 10ft: 23.9%<br>10 - 16ft: 19.5%<br>16 - 3pt: 8.0%<br>3pt: 9.7%"
          ],
          [
           "Kawhi Leonard<br>0 - 3ft: 18.3%<br>3 - 10ft: 17.8%<br>10 - 16ft: 22.1%<br>16 - 3pt: 13.7%<br>3pt: 28.2%"
          ],
          [
           "Kemba Walker<br>0 - 3ft: 19.4%<br>3 - 10ft: 12.2%<br>10 - 16ft: 8.9%<br>16 - 3pt: 10.0%<br>3pt: 49.4%"
          ],
          [
           "Kenneth Faried<br>0 - 3ft: 64.9%<br>3 - 10ft: 22.6%<br>10 - 16ft: 1.9%<br>16 - 3pt: 1.1%<br>3pt: 9.4%"
          ],
          [
           "Klay Thompson<br>0 - 3ft: 8.3%<br>3 - 10ft: 10.0%<br>10 - 16ft: 12.3%<br>16 - 3pt: 15.5%<br>3pt: 53.9%"
          ],
          [
           "Kyrie Irving<br>0 - 3ft: 17.7%<br>3 - 10ft: 18.6%<br>10 - 16ft: 15.4%<br>16 - 3pt: 10.4%<br>3pt: 37.8%"
          ],
          [
           "Lance Thomas<br>0 - 3ft: 21.8%<br>3 - 10ft: 13.7%<br>10 - 16ft: 7.6%<br>16 - 3pt: 16.8%<br>3pt: 40.1%"
          ],
          [
           "Marcus Morris<br>0 - 3ft: 9.3%<br>3 - 10ft: 12.3%<br>10 - 16ft: 18.2%<br>16 - 3pt: 15.2%<br>3pt: 45.0%"
          ],
          [
           "Markieff Morris<br>0 - 3ft: 18.4%<br>3 - 10ft: 15.3%<br>10 - 16ft: 13.1%<br>16 - 3pt: 4.1%<br>3pt: 49.0%"
          ],
          [
           "Nikola Vučević<br>0 - 3ft: 21.3%<br>3 - 10ft: 27.0%<br>10 - 16ft: 14.2%<br>16 - 3pt: 10.4%<br>3pt: 27.2%"
          ],
          [
           "Reggie Jackson<br>0 - 3ft: 15.6%<br>3 - 10ft: 20.8%<br>10 - 16ft: 10.1%<br>16 - 3pt: 10.2%<br>3pt: 43.3%"
          ],
          [
           "Ricky Rubio<br>0 - 3ft: 23.2%<br>3 - 10ft: 13.8%<br>10 - 16ft: 13.8%<br>16 - 3pt: 12.8%<br>3pt: 36.4%"
          ],
          [
           "Shelvin Mack<br>0 - 3ft: 27.0%<br>3 - 10ft: 19.5%<br>10 - 16ft: 11.6%<br>16 - 3pt: 9.4%<br>3pt: 32.6%"
          ],
          [
           "Tobias Harris<br>0 - 3ft: 24.4%<br>3 - 10ft: 23.7%<br>10 - 16ft: 14.5%<br>16 - 3pt: 7.6%<br>3pt: 29.7%"
          ],
          [
           "Tristan Thompson<br>0 - 3ft: 51.4%<br>3 - 10ft: 40.5%<br>10 - 16ft: 5.7%<br>16 - 3pt: 0.9%<br>3pt: 1.5%"
          ],
          [
           "Andre Drummond<br>0 - 3ft: 66.5%<br>3 - 10ft: 28.8%<br>10 - 16ft: 2.4%<br>16 - 3pt: 0.4%<br>3pt: 1.9%"
          ],
          [
           "Anthony Davis<br>0 - 3ft: 34.7%<br>3 - 10ft: 24.4%<br>10 - 16ft: 15.8%<br>16 - 3pt: 12.6%<br>3pt: 12.5%"
          ],
          [
           "Aron Baynes<br>0 - 3ft: 39.7%<br>3 - 10ft: 17.0%<br>10 - 16ft: 5.7%<br>16 - 3pt: 3.1%<br>3pt: 34.6%"
          ],
          [
           "Austin Rivers<br>0 - 3ft: 20.7%<br>3 - 10ft: 17.0%<br>10 - 16ft: 2.8%<br>16 - 3pt: 0.5%<br>3pt: 59.1%"
          ],
          [
           "Bradley Beal<br>0 - 3ft: 22.6%<br>3 - 10ft: 19.2%<br>10 - 16ft: 13.7%<br>16 - 3pt: 12.9%<br>3pt: 31.5%"
          ],
          [
           "Damian Lillard<br>0 - 3ft: 25.3%<br>3 - 10ft: 10.0%<br>10 - 16ft: 6.4%<br>16 - 3pt: 9.1%<br>3pt: 49.2%"
          ],
          [
           "Darius Miller<br>0 - 3ft: 3.1%<br>3 - 10ft: 3.9%<br>10 - 16ft: 8.9%<br>16 - 3pt: 8.9%<br>3pt: 75.2%"
          ],
          [
           "Dion Waiters<br>0 - 3ft: 22.6%<br>3 - 10ft: 5.6%<br>10 - 16ft: 3.6%<br>16 - 3pt: 7.7%<br>3pt: 60.5%"
          ],
          [
           "Draymond Green<br>0 - 3ft: 31.1%<br>3 - 10ft: 26.2%<br>10 - 16ft: 5.8%<br>16 - 3pt: 4.1%<br>3pt: 32.7%"
          ],
          [
           "Evan Fournier<br>0 - 3ft: 15.0%<br>3 - 10ft: 14.1%<br>10 - 16ft: 9.5%<br>16 - 3pt: 10.0%<br>3pt: 51.4%"
          ],
          [
           "Harrison Barnes<br>0 - 3ft: 23.8%<br>3 - 10ft: 24.2%<br>10 - 16ft: 6.2%<br>16 - 3pt: 2.7%<br>3pt: 43.2%"
          ],
          [
           "Jae Crowder<br>0 - 3ft: 13.9%<br>3 - 10ft: 7.1%<br>10 - 16ft: 3.9%<br>16 - 3pt: 7.0%<br>3pt: 68.1%"
          ],
          [
           "Jeremy Lamb<br>0 - 3ft: 16.4%<br>3 - 10ft: 19.1%<br>10 - 16ft: 14.0%<br>16 - 3pt: 9.0%<br>3pt: 41.4%"
          ],
          [
           "John Henson<br>0 - 3ft: 46.2%<br>3 - 10ft: 31.0%<br>10 - 16ft: 0.6%<br>16 - 3pt: 1.2%<br>3pt: 21.1%"
          ],
          [
           "Jonas Valančiūnas<br>0 - 3ft: 38.2%<br>3 - 10ft: 34.1%<br>10 - 16ft: 11.0%<br>16 - 3pt: 3.7%<br>3pt: 13.1%"
          ],
          [
           "Justin Holiday<br>0 - 3ft: 14.2%<br>3 - 10ft: 4.7%<br>10 - 16ft: 4.9%<br>16 - 3pt: 8.7%<br>3pt: 67.6%"
          ],
          [
           "Kent Bazemore<br>0 - 3ft: 23.6%<br>3 - 10ft: 12.7%<br>10 - 16ft: 7.0%<br>16 - 3pt: 8.6%<br>3pt: 48.1%"
          ],
          [
           "Khris Middleton<br>0 - 3ft: 13.3%<br>3 - 10ft: 14.7%<br>10 - 16ft: 18.2%<br>16 - 3pt: 15.1%<br>3pt: 38.8%"
          ],
          [
           "Kyle O'Quinn<br>0 - 3ft: 27.2%<br>3 - 10ft: 11.0%<br>10 - 16ft: 18.4%<br>16 - 3pt: 34.6%<br>3pt: 8.8%"
          ],
          [
           "Maurice Harkless<br>0 - 3ft: 44.9%<br>3 - 10ft: 11.6%<br>10 - 16ft: 1.1%<br>16 - 3pt: 2.6%<br>3pt: 39.8%"
          ],
          [
           "Meyers Leonard<br>0 - 3ft: 28.7%<br>3 - 10ft: 11.6%<br>10 - 16ft: 7.0%<br>16 - 3pt: 2.8%<br>3pt: 49.9%"
          ],
          [
           "Michael Kidd-Gilchrist<br>0 - 3ft: 43.1%<br>3 - 10ft: 23.8%<br>10 - 16ft: 8.7%<br>16 - 3pt: 10.2%<br>3pt: 14.2%"
          ],
          [
           "Mike Scott<br>0 - 3ft: 13.7%<br>3 - 10ft: 11.1%<br>10 - 16ft: 6.3%<br>16 - 3pt: 6.0%<br>3pt: 62.8%"
          ],
          [
           "Patrick Beverley<br>0 - 3ft: 15.8%<br>3 - 10ft: 21.0%<br>10 - 16ft: 4.2%<br>16 - 3pt: 1.3%<br>3pt: 57.7%"
          ],
          [
           "Terrence Ross<br>0 - 3ft: 7.0%<br>3 - 10ft: 8.6%<br>10 - 16ft: 14.2%<br>16 - 3pt: 17.1%<br>3pt: 53.0%"
          ],
          [
           "Will Barton<br>0 - 3ft: 19.4%<br>3 - 10ft: 19.4%<br>10 - 16ft: 8.1%<br>16 - 3pt: 8.0%<br>3pt: 45.0%"
          ],
          [
           "Alex Len<br>0 - 3ft: 48.4%<br>3 - 10ft: 29.3%<br>10 - 16ft: 5.6%<br>16 - 3pt: 1.1%<br>3pt: 15.6%"
          ],
          [
           "Allen Crabbe<br>0 - 3ft: 7.4%<br>3 - 10ft: 7.1%<br>10 - 16ft: 7.6%<br>16 - 3pt: 9.4%<br>3pt: 68.4%"
          ],
          [
           "Ben McLemore<br>0 - 3ft: 11.0%<br>3 - 10ft: 3.5%<br>10 - 16ft: 1.0%<br>16 - 3pt: 5.3%<br>3pt: 79.3%"
          ],
          [
           "CJ McCollum<br>0 - 3ft: 13.5%<br>3 - 10ft: 17.4%<br>10 - 16ft: 14.7%<br>16 - 3pt: 12.2%<br>3pt: 42.2%"
          ],
          [
           "Cody Zeller<br>0 - 3ft: 59.2%<br>3 - 10ft: 27.3%<br>10 - 16ft: 3.2%<br>16 - 3pt: 1.0%<br>3pt: 9.3%"
          ],
          [
           "Dennis Schröder<br>0 - 3ft: 20.4%<br>3 - 10ft: 18.4%<br>10 - 16ft: 15.8%<br>16 - 3pt: 11.0%<br>3pt: 34.5%"
          ],
          [
           "Dewayne Dedmon<br>0 - 3ft: 37.4%<br>3 - 10ft: 21.7%<br>10 - 16ft: 6.0%<br>16 - 3pt: 4.1%<br>3pt: 30.8%"
          ],
          [
           "Giannis Antetokounmpo<br>0 - 3ft: 48.7%<br>3 - 10ft: 19.5%<br>10 - 16ft: 8.2%<br>16 - 3pt: 6.9%<br>3pt: 16.8%"
          ],
          [
           "Gorgui Dieng<br>0 - 3ft: 25.9%<br>3 - 10ft: 10.0%<br>10 - 16ft: 11.2%<br>16 - 3pt: 15.2%<br>3pt: 37.7%"
          ],
          [
           "Ian Clark<br>0 - 3ft: 13.3%<br>3 - 10ft: 17.0%<br>10 - 16ft: 8.6%<br>16 - 3pt: 8.4%<br>3pt: 52.7%"
          ],
          [
           "Kelly Olynyk<br>0 - 3ft: 26.8%<br>3 - 10ft: 17.1%<br>10 - 16ft: 4.6%<br>16 - 3pt: 4.1%<br>3pt: 47.5%"
          ],
          [
           "Kentavious Caldwell-Pope<br>0 - 3ft: 17.5%<br>3 - 10ft: 8.7%<br>10 - 16ft: 8.2%<br>16 - 3pt: 13.2%<br>3pt: 52.5%"
          ],
          [
           "Mason Plumlee<br>0 - 3ft: 64.7%<br>3 - 10ft: 27.6%<br>10 - 16ft: 4.5%<br>16 - 3pt: 1.8%<br>3pt: 1.4%"
          ],
          [
           "Matthew Dellavedova<br>0 - 3ft: 13.0%<br>3 - 10ft: 21.9%<br>10 - 16ft: 9.7%<br>16 - 3pt: 2.5%<br>3pt: 52.9%"
          ],
          [
           "Michael Carter-Williams<br>0 - 3ft: 33.5%<br>3 - 10ft: 27.7%<br>10 - 16ft: 7.7%<br>16 - 3pt: 2.3%<br>3pt: 28.8%"
          ],
          [
           "Mike Muscala<br>0 - 3ft: 13.1%<br>3 - 10ft: 6.7%<br>10 - 16ft: 6.9%<br>16 - 3pt: 3.9%<br>3pt: 69.5%"
          ],
          [
           "Otto Porter Jr.<br>0 - 3ft: 16.1%<br>3 - 10ft: 12.9%<br>10 - 16ft: 12.5%<br>16 - 3pt: 13.8%<br>3pt: 44.6%"
          ],
          [
           "Reggie Bullock<br>0 - 3ft: 9.0%<br>3 - 10ft: 5.2%<br>10 - 16ft: 4.7%<br>16 - 3pt: 5.9%<br>3pt: 75.2%"
          ],
          [
           "Robert Covington<br>0 - 3ft: 19.4%<br>3 - 10ft: 10.3%<br>10 - 16ft: 1.9%<br>16 - 3pt: 2.1%<br>3pt: 66.3%"
          ],
          [
           "Rudy Gobert<br>0 - 3ft: 78.3%<br>3 - 10ft: 19.3%<br>10 - 16ft: 1.4%<br>16 - 3pt: 0.6%<br>3pt: 0.4%"
          ],
          [
           "Seth Curry<br>0 - 3ft: 7.5%<br>3 - 10ft: 9.7%<br>10 - 16ft: 10.2%<br>16 - 3pt: 20.3%<br>3pt: 52.4%"
          ],
          [
           "Solomon Hill<br>0 - 3ft: 16.9%<br>3 - 10ft: 11.6%<br>10 - 16ft: 3.2%<br>16 - 3pt: 4.3%<br>3pt: 64.0%"
          ],
          [
           "Steven Adams<br>0 - 3ft: 63.7%<br>3 - 10ft: 30.1%<br>10 - 16ft: 5.6%<br>16 - 3pt: 0.1%<br>3pt: 0.5%"
          ],
          [
           "Tim Hardaway Jr.<br>0 - 3ft: 13.0%<br>3 - 10ft: 9.9%<br>10 - 16ft: 9.4%<br>16 - 3pt: 10.7%<br>3pt: 57.0%"
          ],
          [
           "Tony Snell<br>0 - 3ft: 13.3%<br>3 - 10ft: 10.8%<br>10 - 16ft: 6.1%<br>16 - 3pt: 3.4%<br>3pt: 66.4%"
          ],
          [
           "Trey Burke<br>0 - 3ft: 16.1%<br>3 - 10ft: 13.9%<br>10 - 16ft: 14.6%<br>16 - 3pt: 17.4%<br>3pt: 38.1%"
          ],
          [
           "Troy Daniels<br>0 - 3ft: 6.5%<br>3 - 10ft: 6.5%<br>10 - 16ft: 5.5%<br>16 - 3pt: 10.8%<br>3pt: 70.8%"
          ],
          [
           "Victor Oladipo<br>0 - 3ft: 18.5%<br>3 - 10ft: 12.3%<br>10 - 16ft: 9.9%<br>16 - 3pt: 14.1%<br>3pt: 45.3%"
          ],
          [
           "Aaron Gordon<br>0 - 3ft: 40.0%<br>3 - 10ft: 15.9%<br>10 - 16ft: 9.7%<br>16 - 3pt: 5.9%<br>3pt: 28.5%"
          ],
          [
           "Andrew Wiggins<br>0 - 3ft: 21.6%<br>3 - 10ft: 22.0%<br>10 - 16ft: 9.9%<br>16 - 3pt: 11.8%<br>3pt: 34.8%"
          ],
          [
           "Bojan Bogdanović<br>0 - 3ft: 18.7%<br>3 - 10ft: 20.2%<br>10 - 16ft: 11.0%<br>16 - 3pt: 4.5%<br>3pt: 45.6%"
          ],
          [
           "Clint Capela<br>0 - 3ft: 73.9%<br>3 - 10ft: 24.8%<br>10 - 16ft: 1.0%<br>16 - 3pt: 0.2%<br>3pt: 0.1%"
          ],
          [
           "Dante Exum<br>0 - 3ft: 37.8%<br>3 - 10ft: 25.0%<br>10 - 16ft: 4.1%<br>16 - 3pt: 1.7%<br>3pt: 31.4%"
          ],
          [
           "Doug McDermott<br>0 - 3ft: 22.1%<br>3 - 10ft: 10.4%<br>10 - 16ft: 3.7%<br>16 - 3pt: 5.2%<br>3pt: 58.6%"
          ],
          [
           "Dwight Powell<br>0 - 3ft: 71.8%<br>3 - 10ft: 14.9%<br>10 - 16ft: 1.0%<br>16 - 3pt: 1.1%<br>3pt: 11.1%"
          ],
          [
           "Elfrid Payton<br>0 - 3ft: 36.0%<br>3 - 10ft: 35.2%<br>10 - 16ft: 8.2%<br>16 - 3pt: 4.2%<br>3pt: 16.4%"
          ],
          [
           "Gary Harris<br>0 - 3ft: 20.4%<br>3 - 10ft: 14.2%<br>10 - 16ft: 5.7%<br>16 - 3pt: 7.3%<br>3pt: 52.4%"
          ],
          [
           "Glenn Robinson III<br>0 - 3ft: 21.2%<br>3 - 10ft: 18.2%<br>10 - 16ft: 11.7%<br>16 - 3pt: 15.0%<br>3pt: 33.9%"
          ],
          [
           "JaMychal Green<br>0 - 3ft: 31.6%<br>3 - 10ft: 14.1%<br>10 - 16ft: 3.3%<br>16 - 3pt: 5.3%<br>3pt: 45.7%"
          ],
          [
           "Jabari Parker<br>0 - 3ft: 37.4%<br>3 - 10ft: 15.5%<br>10 - 16ft: 8.4%<br>16 - 3pt: 12.6%<br>3pt: 26.1%"
          ],
          [
           "James Ennis III<br>0 - 3ft: 35.1%<br>3 - 10ft: 10.6%<br>10 - 16ft: 3.0%<br>16 - 3pt: 2.1%<br>3pt: 49.3%"
          ],
          [
           "Jerami Grant<br>0 - 3ft: 28.3%<br>3 - 10ft: 17.3%<br>10 - 16ft: 8.0%<br>16 - 3pt: 9.8%<br>3pt: 36.6%"
          ],
          [
           "Joe Harris<br>0 - 3ft: 21.7%<br>3 - 10ft: 9.8%<br>10 - 16ft: 3.9%<br>16 - 3pt: 4.1%<br>3pt: 60.5%"
          ],
          [
           "Joe Ingles<br>0 - 3ft: 11.3%<br>3 - 10ft: 14.4%<br>10 - 16ft: 2.8%<br>16 - 3pt: 1.7%<br>3pt: 69.8%"
          ],
          [
           "Jordan Clarkson<br>0 - 3ft: 14.0%<br>3 - 10ft: 25.7%<br>10 - 16ft: 10.5%<br>16 - 3pt: 3.4%<br>3pt: 46.5%"
          ],
          [
           "Julius Randle<br>0 - 3ft: 28.4%<br>3 - 10ft: 20.7%<br>10 - 16ft: 12.3%<br>16 - 3pt: 9.2%<br>3pt: 29.5%"
          ],
          [
           "Jusuf Nurkić<br>0 - 3ft: 51.1%<br>3 - 10ft: 29.6%<br>10 - 16ft: 3.6%<br>16 - 3pt: 4.1%<br>3pt: 11.7%"
          ],
          [
           "Kyle Anderson<br>0 - 3ft: 25.2%<br>3 - 10ft: 33.4%<br>10 - 16ft: 13.2%<br>16 - 3pt: 5.7%<br>3pt: 22.6%"
          ],
          [
           "Langston Galloway<br>0 - 3ft: 9.3%<br>3 - 10ft: 11.7%<br>10 - 16ft: 8.4%<br>16 - 3pt: 8.8%<br>3pt: 61.9%"
          ],
          [
           "Marcus Smart<br>0 - 3ft: 14.3%<br>3 - 10ft: 18.1%<br>10 - 16ft: 7.3%<br>16 - 3pt: 4.0%<br>3pt: 56.3%"
          ],
          [
           "Nerlens Noel<br>0 - 3ft: 63.9%<br>3 - 10ft: 19.2%<br>10 - 16ft: 12.1%<br>16 - 3pt: 4.1%<br>3pt: 0.7%"
          ],
          [
           "Nik Stauskas<br>0 - 3ft: 21.7%<br>3 - 10ft: 4.6%<br>10 - 16ft: 9.5%<br>16 - 3pt: 9.0%<br>3pt: 55.2%"
          ],
          [
           "Nikola Mirotić<br>0 - 3ft: 19.4%<br>3 - 10ft: 8.1%<br>10 - 16ft: 5.0%<br>16 - 3pt: 8.9%<br>3pt: 58.7%"
          ],
          [
           "Noah Vonleh<br>0 - 3ft: 42.1%<br>3 - 10ft: 27.6%<br>10 - 16ft: 1.5%<br>16 - 3pt: 2.9%<br>3pt: 26.0%"
          ],
          [
           "Rodney Hood<br>0 - 3ft: 10.2%<br>3 - 10ft: 15.0%<br>10 - 16ft: 15.3%<br>16 - 3pt: 15.0%<br>3pt: 44.6%"
          ],
          [
           "Shabazz Napier<br>0 - 3ft: 21.1%<br>3 - 10ft: 8.8%<br>10 - 16ft: 9.2%<br>16 - 3pt: 7.5%<br>3pt: 53.4%"
          ],
          [
           "Spencer Dinwiddie<br>0 - 3ft: 19.7%<br>3 - 10ft: 21.0%<br>10 - 16ft: 7.7%<br>16 - 3pt: 3.7%<br>3pt: 47.9%"
          ],
          [
           "T.J. Warren<br>0 - 3ft: 24.9%<br>3 - 10ft: 20.2%<br>10 - 16ft: 20.2%<br>16 - 3pt: 9.5%<br>3pt: 25.2%"
          ],
          [
           "Tim Frazier<br>0 - 3ft: 27.9%<br>3 - 10ft: 12.1%<br>10 - 16ft: 12.2%<br>16 - 3pt: 8.8%<br>3pt: 39.1%"
          ],
          [
           "Tyler Johnson<br>0 - 3ft: 15.2%<br>3 - 10ft: 13.4%<br>10 - 16ft: 8.4%<br>16 - 3pt: 8.7%<br>3pt: 54.3%"
          ],
          [
           "Zach LaVine<br>0 - 3ft: 32.3%<br>3 - 10ft: 10.4%<br>10 - 16ft: 6.6%<br>16 - 3pt: 12.6%<br>3pt: 38.1%"
          ],
          [
           "Boban Marjanović<br>0 - 3ft: 55.3%<br>3 - 10ft: 26.7%<br>10 - 16ft: 9.5%<br>16 - 3pt: 4.1%<br>3pt: 4.5%"
          ],
          [
           "Bobby Portis<br>0 - 3ft: 23.3%<br>3 - 10ft: 20.7%<br>10 - 16ft: 14.7%<br>16 - 3pt: 10.4%<br>3pt: 31.0%"
          ],
          [
           "Cameron Payne<br>0 - 3ft: 15.7%<br>3 - 10ft: 22.1%<br>10 - 16ft: 11.6%<br>16 - 3pt: 4.7%<br>3pt: 45.8%"
          ],
          [
           "Cristiano Felício<br>0 - 3ft: 69.3%<br>3 - 10ft: 19.6%<br>10 - 16ft: 4.5%<br>16 - 3pt: 4.5%<br>3pt: 2.2%"
          ],
          [
           "D'Angelo Russell<br>0 - 3ft: 11.9%<br>3 - 10ft: 14.6%<br>10 - 16ft: 13.7%<br>16 - 3pt: 10.3%<br>3pt: 49.4%"
          ],
          [
           "Delon Wright<br>0 - 3ft: 32.6%<br>3 - 10ft: 24.7%<br>10 - 16ft: 5.2%<br>16 - 3pt: 2.9%<br>3pt: 34.6%"
          ],
          [
           "Devin Booker<br>0 - 3ft: 17.4%<br>3 - 10ft: 15.7%<br>10 - 16ft: 21.6%<br>16 - 3pt: 13.8%<br>3pt: 31.4%"
          ],
          [
           "Emmanuel Mudiay<br>0 - 3ft: 29.5%<br>3 - 10ft: 14.6%<br>10 - 16ft: 19.5%<br>16 - 3pt: 8.9%<br>3pt: 27.5%"
          ],
          [
           "Frank Kaminsky<br>0 - 3ft: 26.0%<br>3 - 10ft: 21.7%<br>10 - 16ft: 6.0%<br>16 - 3pt: 3.6%<br>3pt: 42.7%"
          ],
          [
           "Jahlil Okafor<br>0 - 3ft: 51.4%<br>3 - 10ft: 37.8%<br>10 - 16ft: 8.6%<br>16 - 3pt: 0.8%<br>3pt: 1.4%"
          ],
          [
           "Jarell Martin<br>0 - 3ft: 17.3%<br>3 - 10ft: 5.8%<br>10 - 16ft: 1.9%<br>16 - 3pt: 20.2%<br>3pt: 54.8%"
          ],
          [
           "Jerian Grant<br>0 - 3ft: 10.9%<br>3 - 10ft: 11.8%<br>10 - 16ft: 13.2%<br>16 - 3pt: 14.1%<br>3pt: 50.0%"
          ],
          [
           "Jonathon Simmons<br>0 - 3ft: 23.7%<br>3 - 10ft: 25.9%<br>10 - 16ft: 9.3%<br>16 - 3pt: 11.6%<br>3pt: 29.4%"
          ],
          [
           "Jordan McRae<br>0 - 3ft: 19.4%<br>3 - 10ft: 16.9%<br>10 - 16ft: 14.8%<br>16 - 3pt: 14.5%<br>3pt: 34.4%"
          ],
          [
           "Josh Richardson<br>0 - 3ft: 13.0%<br>3 - 10ft: 13.7%<br>10 - 16ft: 15.3%<br>16 - 3pt: 11.1%<br>3pt: 46.8%"
          ],
          [
           "Justin Anderson<br>0 - 3ft: 29.3%<br>3 - 10ft: 12.7%<br>10 - 16ft: 7.0%<br>16 - 3pt: 1.9%<br>3pt: 49.0%"
          ],
          [
           "Justise Winslow<br>0 - 3ft: 31.1%<br>3 - 10ft: 26.3%<br>10 - 16ft: 8.8%<br>16 - 3pt: 5.6%<br>3pt: 28.2%"
          ],
          [
           "Karl-Anthony Towns<br>0 - 3ft: 29.6%<br>3 - 10ft: 27.0%<br>10 - 16ft: 6.1%<br>16 - 3pt: 6.0%<br>3pt: 31.3%"
          ],
          [
           "Kelly Oubre Jr.<br>0 - 3ft: 29.1%<br>3 - 10ft: 18.8%<br>10 - 16ft: 6.4%<br>16 - 3pt: 3.0%<br>3pt: 42.6%"
          ],
          [
           "Kevon Looney<br>0 - 3ft: 57.0%<br>3 - 10ft: 29.2%<br>10 - 16ft: 5.7%<br>16 - 3pt: 5.9%<br>3pt: 2.2%"
          ],
          [
           "Kristaps Porziņģis<br>0 - 3ft: 20.7%<br>3 - 10ft: 17.5%<br>10 - 16ft: 16.2%<br>16 - 3pt: 8.0%<br>3pt: 37.6%"
          ],
          [
           "Larry Nance Jr.<br>0 - 3ft: 44.5%<br>3 - 10ft: 19.3%<br>10 - 16ft: 6.7%<br>16 - 3pt: 4.0%<br>3pt: 25.4%"
          ],
          [
           "Mario Hezonja<br>0 - 3ft: 33.6%<br>3 - 10ft: 15.8%<br>10 - 16ft: 8.2%<br>16 - 3pt: 8.3%<br>3pt: 34.2%"
          ],
          [
           "Montrezl Harrell<br>0 - 3ft: 60.3%<br>3 - 10ft: 27.8%<br>10 - 16ft: 7.0%<br>16 - 3pt: 2.3%<br>3pt: 2.5%"
          ],
          [
           "Myles Turner<br>0 - 3ft: 26.5%<br>3 - 10ft: 19.5%<br>10 - 16ft: 7.9%<br>16 - 3pt: 8.9%<br>3pt: 37.2%"
          ],
          [
           "Nemanja Bjelica<br>0 - 3ft: 28.3%<br>3 - 10ft: 21.8%<br>10 - 16ft: 2.4%<br>16 - 3pt: 2.5%<br>3pt: 45.0%"
          ],
          [
           "Nikola Jokić<br>0 - 3ft: 27.4%<br>3 - 10ft: 35.4%<br>10 - 16ft: 10.9%<br>16 - 3pt: 6.6%<br>3pt: 19.6%"
          ],
          [
           "Norman Powell<br>0 - 3ft: 26.5%<br>3 - 10ft: 17.4%<br>10 - 16ft: 5.9%<br>16 - 3pt: 5.6%<br>3pt: 44.7%"
          ],
          [
           "Pat Connaughton<br>0 - 3ft: 23.0%<br>3 - 10ft: 7.4%<br>10 - 16ft: 1.2%<br>16 - 3pt: 1.4%<br>3pt: 67.1%"
          ],
          [
           "Raul Neto<br>0 - 3ft: 26.2%<br>3 - 10ft: 23.4%<br>10 - 16ft: 11.6%<br>16 - 3pt: 3.5%<br>3pt: 35.2%"
          ],
          [
           "Richaun Holmes<br>0 - 3ft: 52.4%<br>3 - 10ft: 29.7%<br>10 - 16ft: 14.5%<br>16 - 3pt: 1.3%<br>3pt: 2.2%"
          ],
          [
           "Rondae Hollis-Jefferson<br>0 - 3ft: 56.4%<br>3 - 10ft: 24.1%<br>10 - 16ft: 9.5%<br>16 - 3pt: 1.5%<br>3pt: 8.5%"
          ],
          [
           "Salah Mejri<br>0 - 3ft: 50.0%<br>3 - 10ft: 14.3%<br>10 - 16ft: 0.9%<br>16 - 3pt: 4.5%<br>3pt: 30.4%"
          ],
          [
           "Sam Dekker<br>0 - 3ft: 51.7%<br>3 - 10ft: 13.3%<br>10 - 16ft: 4.3%<br>16 - 3pt: 6.6%<br>3pt: 23.9%"
          ],
          [
           "Stanley Johnson<br>0 - 3ft: 22.4%<br>3 - 10ft: 17.3%<br>10 - 16ft: 6.9%<br>16 - 3pt: 2.6%<br>3pt: 50.7%"
          ],
          [
           "T.J. McConnell<br>0 - 3ft: 29.0%<br>3 - 10ft: 31.2%<br>10 - 16ft: 24.2%<br>16 - 3pt: 7.0%<br>3pt: 8.6%"
          ],
          [
           "Terry Rozier<br>0 - 3ft: 18.4%<br>3 - 10ft: 16.9%<br>10 - 16ft: 9.8%<br>16 - 3pt: 7.9%<br>3pt: 47.1%"
          ],
          [
           "Trey Lyles<br>0 - 3ft: 26.2%<br>3 - 10ft: 16.2%<br>10 - 16ft: 5.6%<br>16 - 3pt: 3.4%<br>3pt: 48.6%"
          ],
          [
           "Tyus Jones<br>0 - 3ft: 13.4%<br>3 - 10ft: 23.3%<br>10 - 16ft: 21.5%<br>16 - 3pt: 6.0%<br>3pt: 35.8%"
          ],
          [
           "Willie Cauley-Stein<br>0 - 3ft: 62.1%<br>3 - 10ft: 21.5%<br>10 - 16ft: 7.3%<br>16 - 3pt: 7.5%<br>3pt: 1.6%"
          ],
          [
           "Brandon Ingram<br>0 - 3ft: 19.3%<br>3 - 10ft: 15.2%<br>10 - 16ft: 23.2%<br>16 - 3pt: 17.0%<br>3pt: 25.3%"
          ],
          [
           "Bryn Forbes<br>0 - 3ft: 6.5%<br>3 - 10ft: 10.8%<br>10 - 16ft: 9.6%<br>16 - 3pt: 15.4%<br>3pt: 57.8%"
          ],
          [
           "Buddy Hield<br>0 - 3ft: 14.3%<br>3 - 10ft: 8.2%<br>10 - 16ft: 5.8%<br>16 - 3pt: 7.6%<br>3pt: 64.1%"
          ],
          [
           "Caris LeVert<br>0 - 3ft: 24.0%<br>3 - 10ft: 22.6%<br>10 - 16ft: 15.0%<br>16 - 3pt: 3.3%<br>3pt: 35.1%"
          ],
          [
           "Chasson Randle<br>0 - 3ft: 23.3%<br>3 - 10ft: 13.0%<br>10 - 16ft: 4.1%<br>16 - 3pt: 5.9%<br>3pt: 53.9%"
          ],
          [
           "Cheick Diallo<br>0 - 3ft: 53.6%<br>3 - 10ft: 24.9%<br>10 - 16ft: 12.7%<br>16 - 3pt: 7.1%<br>3pt: 1.8%"
          ],
          [
           "Danuel House Jr.<br>0 - 3ft: 24.0%<br>3 - 10ft: 8.4%<br>10 - 16ft: 2.9%<br>16 - 3pt: 2.8%<br>3pt: 61.8%"
          ],
          [
           "Dario Šarić<br>0 - 3ft: 26.8%<br>3 - 10ft: 17.4%<br>10 - 16ft: 5.3%<br>16 - 3pt: 6.2%<br>3pt: 44.3%"
          ],
          [
           "David Nwaba<br>0 - 3ft: 45.7%<br>3 - 10ft: 21.8%<br>10 - 16ft: 4.0%<br>16 - 3pt: 0.2%<br>3pt: 28.2%"
          ],
          [
           "DeAndre' Bembry<br>0 - 3ft: 49.7%<br>3 - 10ft: 23.5%<br>10 - 16ft: 2.9%<br>16 - 3pt: 0.9%<br>3pt: 23.0%"
          ],
          [
           "Dejounte Murray<br>0 - 3ft: 20.2%<br>3 - 10ft: 18.6%<br>10 - 16ft: 22.0%<br>16 - 3pt: 13.0%<br>3pt: 26.2%"
          ],
          [
           "Denzel Valentine<br>0 - 3ft: 7.2%<br>3 - 10ft: 13.2%<br>10 - 16ft: 15.0%<br>16 - 3pt: 6.6%<br>3pt: 58.1%"
          ],
          [
           "Derrick Jones Jr.<br>0 - 3ft: 48.1%<br>3 - 10ft: 12.2%<br>10 - 16ft: 1.2%<br>16 - 3pt: 0.4%<br>3pt: 38.1%"
          ],
          [
           "Domantas Sabonis<br>0 - 3ft: 48.1%<br>3 - 10ft: 28.2%<br>10 - 16ft: 6.1%<br>16 - 3pt: 6.9%<br>3pt: 10.7%"
          ],
          [
           "Dorian Finney-Smith<br>0 - 3ft: 26.4%<br>3 - 10ft: 8.7%<br>10 - 16ft: 1.5%<br>16 - 3pt: 1.9%<br>3pt: 61.5%"
          ],
          [
           "Dragan Bender<br>0 - 3ft: 37.6%<br>3 - 10ft: 9.6%<br>10 - 16ft: 0.5%<br>16 - 3pt: 1.0%<br>3pt: 51.3%"
          ],
          [
           "Dāvis Bertāns<br>0 - 3ft: 6.9%<br>3 - 10ft: 5.3%<br>10 - 16ft: 2.5%<br>16 - 3pt: 2.9%<br>3pt: 82.4%"
          ],
          [
           "Fred VanVleet<br>0 - 3ft: 16.6%<br>3 - 10ft: 11.7%<br>10 - 16ft: 7.0%<br>16 - 3pt: 10.7%<br>3pt: 54.1%"
          ],
          [
           "Georges Niang<br>0 - 3ft: 11.0%<br>3 - 10ft: 15.1%<br>10 - 16ft: 4.7%<br>16 - 3pt: 1.0%<br>3pt: 68.3%"
          ],
          [
           "Ivica Zubac<br>0 - 3ft: 61.0%<br>3 - 10ft: 34.4%<br>10 - 16ft: 3.0%<br>16 - 3pt: 1.3%<br>3pt: 0.3%"
          ],
          [
           "Jake Layman<br>0 - 3ft: 39.7%<br>3 - 10ft: 10.2%<br>10 - 16ft: 3.2%<br>16 - 3pt: 4.3%<br>3pt: 42.6%"
          ],
          [
           "Jakob Poeltl<br>0 - 3ft: 57.0%<br>3 - 10ft: 32.6%<br>10 - 16ft: 9.9%<br>16 - 3pt: 0.5%<br>3pt: 0.1%"
          ],
          [
           "Jamal Murray<br>0 - 3ft: 16.4%<br>3 - 10ft: 15.4%<br>10 - 16ft: 15.2%<br>16 - 3pt: 15.6%<br>3pt: 37.4%"
          ],
          [
           "Jaylen Brown<br>0 - 3ft: 24.7%<br>3 - 10ft: 21.2%<br>10 - 16ft: 10.7%<br>16 - 3pt: 7.5%<br>3pt: 35.8%"
          ],
          [
           "Joel Embiid<br>0 - 3ft: 26.6%<br>3 - 10ft: 20.2%<br>10 - 16ft: 21.7%<br>16 - 3pt: 13.0%<br>3pt: 18.5%"
          ],
          [
           "Juancho Hernangómez<br>0 - 3ft: 30.1%<br>3 - 10ft: 10.1%<br>10 - 16ft: 1.0%<br>16 - 3pt: 1.1%<br>3pt: 57.7%"
          ],
          [
           "Kris Dunn<br>0 - 3ft: 26.3%<br>3 - 10ft: 29.2%<br>10 - 16ft: 9.5%<br>16 - 3pt: 5.1%<br>3pt: 30.0%"
          ],
          [
           "Malcolm Brogdon<br>0 - 3ft: 30.9%<br>3 - 10ft: 14.9%<br>10 - 16ft: 8.2%<br>16 - 3pt: 9.7%<br>3pt: 36.1%"
          ],
          [
           "Malik Beasley<br>0 - 3ft: 11.2%<br>3 - 10ft: 11.5%<br>10 - 16ft: 6.8%<br>16 - 3pt: 5.8%<br>3pt: 64.7%"
          ],
          [
           "Marquese Chriss<br>0 - 3ft: 53.5%<br>3 - 10ft: 19.0%<br>10 - 16ft: 2.6%<br>16 - 3pt: 2.2%<br>3pt: 22.7%"
          ],
          [
           "Pascal Siakam<br>0 - 3ft: 28.2%<br>3 - 10ft: 30.4%<br>10 - 16ft: 11.0%<br>16 - 3pt: 7.9%<br>3pt: 22.5%"
          ],
          [
           "Patrick McCaw<br>0 - 3ft: 31.5%<br>3 - 10ft: 14.2%<br>10 - 16ft: 6.2%<br>16 - 3pt: 4.3%<br>3pt: 43.8%"
          ],
          [
           "Quinn Cook<br>0 - 3ft: 17.0%<br>3 - 10ft: 11.0%<br>10 - 16ft: 10.7%<br>16 - 3pt: 17.9%<br>3pt: 43.4%"
          ],
          [
           "Rodney McGruder<br>0 - 3ft: 19.1%<br>3 - 10ft: 19.3%<br>10 - 16ft: 6.6%<br>16 - 3pt: 1.3%<br>3pt: 53.7%"
          ],
          [
           "Taurean Prince<br>0 - 3ft: 17.4%<br>3 - 10ft: 14.7%<br>10 - 16ft: 7.3%<br>16 - 3pt: 4.5%<br>3pt: 56.1%"
          ],
          [
           "Thon Maker<br>0 - 3ft: 29.3%<br>3 - 10ft: 16.6%<br>10 - 16ft: 4.1%<br>16 - 3pt: 4.5%<br>3pt: 45.5%"
          ],
          [
           "Timothé Luwawu-Cabarrot<br>0 - 3ft: 25.2%<br>3 - 10ft: 6.6%<br>10 - 16ft: 3.3%<br>16 - 3pt: 3.2%<br>3pt: 61.6%"
          ],
          [
           "Tomáš Satoranský<br>0 - 3ft: 28.1%<br>3 - 10ft: 21.3%<br>10 - 16ft: 11.6%<br>16 - 3pt: 6.5%<br>3pt: 32.6%"
          ],
          [
           "Treveon Graham<br>0 - 3ft: 25.6%<br>3 - 10ft: 21.1%<br>10 - 16ft: 2.9%<br>16 - 3pt: 0.8%<br>3pt: 49.6%"
          ],
          [
           "Wayne Selden<br>0 - 3ft: 21.7%<br>3 - 10ft: 19.0%<br>10 - 16ft: 14.2%<br>16 - 3pt: 9.6%<br>3pt: 35.5%"
          ],
          [
           "Willy Hernangómez<br>0 - 3ft: 56.7%<br>3 - 10ft: 30.6%<br>10 - 16ft: 4.3%<br>16 - 3pt: 1.3%<br>3pt: 7.1%"
          ],
          [
           "Yogi Ferrell<br>0 - 3ft: 17.7%<br>3 - 10ft: 8.5%<br>10 - 16ft: 16.4%<br>16 - 3pt: 15.2%<br>3pt: 42.2%"
          ],
          [
           "Abdel Nader<br>0 - 3ft: 30.7%<br>3 - 10ft: 16.3%<br>10 - 16ft: 3.1%<br>16 - 3pt: 2.4%<br>3pt: 47.5%"
          ],
          [
           "Alex Caruso<br>0 - 3ft: 26.7%<br>3 - 10ft: 12.8%<br>10 - 16ft: 6.0%<br>16 - 3pt: 4.1%<br>3pt: 50.4%"
          ],
          [
           "Alfonzo McKinnie<br>0 - 3ft: 37.2%<br>3 - 10ft: 13.0%<br>10 - 16ft: 3.6%<br>16 - 3pt: 4.8%<br>3pt: 41.3%"
          ],
          [
           "Ante Žižić<br>0 - 3ft: 56.5%<br>3 - 10ft: 29.0%<br>10 - 16ft: 10.3%<br>16 - 3pt: 4.2%<br>3pt: 0.0%"
          ],
          [
           "Antonio Blakeney<br>0 - 3ft: 15.7%<br>3 - 10ft: 16.7%<br>10 - 16ft: 25.3%<br>16 - 3pt: 19.4%<br>3pt: 23.0%"
          ],
          [
           "Bam Adebayo<br>0 - 3ft: 39.5%<br>3 - 10ft: 31.6%<br>10 - 16ft: 20.4%<br>16 - 3pt: 6.5%<br>3pt: 2.1%"
          ],
          [
           "Ben Simmons<br>0 - 3ft: 55.1%<br>3 - 10ft: 35.9%<br>10 - 16ft: 6.9%<br>16 - 3pt: 1.0%<br>3pt: 1.0%"
          ],
          [
           "Bogdan Bogdanović<br>0 - 3ft: 12.3%<br>3 - 10ft: 13.3%<br>10 - 16ft: 10.8%<br>16 - 3pt: 8.3%<br>3pt: 55.4%"
          ],
          [
           "Cedi Osman<br>0 - 3ft: 25.2%<br>3 - 10ft: 12.4%<br>10 - 16ft: 4.4%<br>16 - 3pt: 2.8%<br>3pt: 55.1%"
          ],
          [
           "D.J. Wilson<br>0 - 3ft: 23.4%<br>3 - 10ft: 11.6%<br>10 - 16ft: 6.8%<br>16 - 3pt: 5.6%<br>3pt: 52.6%"
          ],
          [
           "Damyean Dotson<br>0 - 3ft: 15.7%<br>3 - 10ft: 6.4%<br>10 - 16ft: 7.3%<br>16 - 3pt: 18.2%<br>3pt: 52.5%"
          ],
          [
           "Daniel Theis<br>0 - 3ft: 40.4%<br>3 - 10ft: 17.4%<br>10 - 16ft: 9.4%<br>16 - 3pt: 5.0%<br>3pt: 27.8%"
          ],
          [
           "De'Aaron Fox<br>0 - 3ft: 21.8%<br>3 - 10ft: 25.3%<br>10 - 16ft: 16.0%<br>16 - 3pt: 10.1%<br>3pt: 26.9%"
          ],
          [
           "Dennis Smith Jr.<br>0 - 3ft: 36.0%<br>3 - 10ft: 20.2%<br>10 - 16ft: 7.2%<br>16 - 3pt: 9.8%<br>3pt: 26.8%"
          ],
          [
           "Derrick White<br>0 - 3ft: 18.1%<br>3 - 10ft: 21.3%<br>10 - 16ft: 10.1%<br>16 - 3pt: 4.8%<br>3pt: 45.7%"
          ],
          [
           "Dillon Brooks<br>0 - 3ft: 16.4%<br>3 - 10ft: 18.5%<br>10 - 16ft: 15.5%<br>16 - 3pt: 7.8%<br>3pt: 41.9%"
          ],
          [
           "Donovan Mitchell<br>0 - 3ft: 18.6%<br>3 - 10ft: 20.4%<br>10 - 16ft: 10.3%<br>16 - 3pt: 9.5%<br>3pt: 41.2%"
          ],
          [
           "Dwayne Bacon<br>0 - 3ft: 27.2%<br>3 - 10ft: 21.6%<br>10 - 16ft: 12.8%<br>16 - 3pt: 8.8%<br>3pt: 29.8%"
          ],
          [
           "Frank Mason III<br>0 - 3ft: 29.0%<br>3 - 10ft: 11.8%<br>10 - 16ft: 9.5%<br>16 - 3pt: 11.8%<br>3pt: 37.9%"
          ],
          [
           "Frank Ntilikina<br>0 - 3ft: 15.4%<br>3 - 10ft: 12.7%<br>10 - 16ft: 12.2%<br>16 - 3pt: 13.9%<br>3pt: 45.7%"
          ],
          [
           "Furkan Korkmaz<br>0 - 3ft: 15.5%<br>3 - 10ft: 13.5%<br>10 - 16ft: 6.9%<br>16 - 3pt: 6.0%<br>3pt: 58.0%"
          ],
          [
           "Guerschon Yabusele<br>0 - 3ft: 28.6%<br>3 - 10ft: 28.6%<br>10 - 16ft: 2.6%<br>16 - 3pt: 3.9%<br>3pt: 36.4%"
          ],
          [
           "Ivan Rabb<br>0 - 3ft: 42.9%<br>3 - 10ft: 26.9%<br>10 - 16ft: 9.0%<br>16 - 3pt: 14.2%<br>3pt: 7.1%"
          ],
          [
           "Jarrett Allen<br>0 - 3ft: 62.6%<br>3 - 10ft: 27.5%<br>10 - 16ft: 5.0%<br>16 - 3pt: 1.7%<br>3pt: 3.2%"
          ],
          [
           "Jayson Tatum<br>0 - 3ft: 23.1%<br>3 - 10ft: 17.3%<br>10 - 16ft: 10.6%<br>16 - 3pt: 10.1%<br>3pt: 38.9%"
          ],
          [
           "John Collins<br>0 - 3ft: 37.4%<br>3 - 10ft: 22.0%<br>10 - 16ft: 9.0%<br>16 - 3pt: 4.0%<br>3pt: 27.5%"
          ],
          [
           "Jonathan Isaac<br>0 - 3ft: 33.9%<br>3 - 10ft: 8.9%<br>10 - 16ft: 7.1%<br>16 - 3pt: 8.4%<br>3pt: 41.6%"
          ],
          [
           "Jordan Bell<br>0 - 3ft: 48.4%<br>3 - 10ft: 10.9%<br>10 - 16ft: 17.2%<br>16 - 3pt: 22.4%<br>3pt: 1.0%"
          ],
          [
           "Josh Hart<br>0 - 3ft: 34.8%<br>3 - 10ft: 11.7%<br>10 - 16ft: 6.2%<br>16 - 3pt: 2.9%<br>3pt: 44.3%"
          ],
          [
           "Josh Jackson<br>0 - 3ft: 27.5%<br>3 - 10ft: 19.6%<br>10 - 16ft: 7.3%<br>16 - 3pt: 9.5%<br>3pt: 36.1%"
          ],
          [
           "Justin Jackson<br>0 - 3ft: 15.9%<br>3 - 10ft: 18.0%<br>10 - 16ft: 11.5%<br>16 - 3pt: 4.0%<br>3pt: 50.5%"
          ],
          [
           "Khem Birch<br>0 - 3ft: 42.9%<br>3 - 10ft: 36.6%<br>10 - 16ft: 10.9%<br>16 - 3pt: 2.7%<br>3pt: 6.9%"
          ],
          [
           "Kyle Kuzma<br>0 - 3ft: 21.5%<br>3 - 10ft: 22.4%<br>10 - 16ft: 8.7%<br>16 - 3pt: 6.5%<br>3pt: 41.0%"
          ],
          [
           "Lauri Markkanen<br>0 - 3ft: 22.4%<br>3 - 10ft: 18.7%<br>10 - 16ft: 5.6%<br>16 - 3pt: 3.3%<br>3pt: 49.9%"
          ],
          [
           "Lonzo Ball<br>0 - 3ft: 22.1%<br>3 - 10ft: 7.8%<br>10 - 16ft: 5.3%<br>16 - 3pt: 7.0%<br>3pt: 57.9%"
          ],
          [
           "Luke Kennard<br>0 - 3ft: 7.2%<br>3 - 10ft: 8.7%<br>10 - 16ft: 11.1%<br>16 - 3pt: 10.4%<br>3pt: 62.6%"
          ],
          [
           "Luke Kornet<br>0 - 3ft: 52.2%<br>3 - 10ft: 15.9%<br>10 - 16ft: 4.2%<br>16 - 3pt: 0.7%<br>3pt: 27.0%"
          ],
          [
           "Malik Monk<br>0 - 3ft: 21.7%<br>3 - 10ft: 16.2%<br>10 - 16ft: 6.5%<br>16 - 3pt: 5.1%<br>3pt: 50.6%"
          ],
          [
           "Maxi Kleber<br>0 - 3ft: 20.6%<br>3 - 10ft: 6.8%<br>10 - 16ft: 4.9%<br>16 - 3pt: 2.3%<br>3pt: 65.5%"
          ],
          [
           "Monte Morris<br>0 - 3ft: 17.3%<br>3 - 10ft: 18.8%<br>10 - 16ft: 15.0%<br>16 - 3pt: 13.5%<br>3pt: 35.4%"
          ],
          [
           "OG Anunoby<br>0 - 3ft: 32.9%<br>3 - 10ft: 13.4%<br>10 - 16ft: 4.7%<br>16 - 3pt: 3.7%<br>3pt: 45.3%"
          ],
          [
           "Royce O'Neale<br>0 - 3ft: 18.9%<br>3 - 10ft: 9.6%<br>10 - 16ft: 1.7%<br>16 - 3pt: 0.8%<br>3pt: 68.9%"
          ],
          [
           "Ryan Arcidiacono<br>0 - 3ft: 16.1%<br>3 - 10ft: 13.8%<br>10 - 16ft: 9.2%<br>16 - 3pt: 4.3%<br>3pt: 56.6%"
          ],
          [
           "Semi Ojeleye<br>0 - 3ft: 16.8%<br>3 - 10ft: 11.2%<br>10 - 16ft: 3.8%<br>16 - 3pt: 4.0%<br>3pt: 64.2%"
          ],
          [
           "Shaquille Harrison<br>0 - 3ft: 52.3%<br>3 - 10ft: 17.9%<br>10 - 16ft: 5.1%<br>16 - 3pt: 2.1%<br>3pt: 22.6%"
          ],
          [
           "Sindarius Thornwell<br>0 - 3ft: 32.7%<br>3 - 10ft: 34.7%<br>10 - 16ft: 2.0%<br>16 - 3pt: 0.0%<br>3pt: 30.6%"
          ],
          [
           "Sterling Brown<br>0 - 3ft: 25.8%<br>3 - 10ft: 11.1%<br>10 - 16ft: 3.7%<br>16 - 3pt: 3.9%<br>3pt: 55.6%"
          ],
          [
           "T.J. Leaf<br>0 - 3ft: 42.1%<br>3 - 10ft: 31.1%<br>10 - 16ft: 8.2%<br>16 - 3pt: 1.6%<br>3pt: 16.9%"
          ],
          [
           "Terrance Ferguson<br>0 - 3ft: 17.0%<br>3 - 10ft: 4.8%<br>10 - 16ft: 2.2%<br>16 - 3pt: 4.8%<br>3pt: 71.2%"
          ],
          [
           "Thomas Bryant<br>0 - 3ft: 44.6%<br>3 - 10ft: 21.3%<br>10 - 16ft: 8.0%<br>16 - 3pt: 8.1%<br>3pt: 18.0%"
          ],
          [
           "Torrey Craig<br>0 - 3ft: 27.8%<br>3 - 10ft: 12.2%<br>10 - 16ft: 4.6%<br>16 - 3pt: 3.4%<br>3pt: 52.0%"
          ],
          [
           "Tyler Dorsey<br>0 - 3ft: 24.2%<br>3 - 10ft: 11.4%<br>10 - 16ft: 3.8%<br>16 - 3pt: 10.6%<br>3pt: 50.0%"
          ],
          [
           "Tyrone Wallace<br>0 - 3ft: 31.3%<br>3 - 10ft: 43.3%<br>10 - 16ft: 13.4%<br>16 - 3pt: 3.2%<br>3pt: 8.8%"
          ],
          [
           "Wes Iwundu<br>0 - 3ft: 31.0%<br>3 - 10ft: 15.4%<br>10 - 16ft: 8.3%<br>16 - 3pt: 11.6%<br>3pt: 33.8%"
          ],
          [
           "Zach Collins<br>0 - 3ft: 33.6%<br>3 - 10ft: 24.9%<br>10 - 16ft: 8.1%<br>16 - 3pt: 4.4%<br>3pt: 28.9%"
          ],
          [
           "Aaron Holiday<br>0 - 3ft: 19.0%<br>3 - 10ft: 20.5%<br>10 - 16ft: 12.3%<br>16 - 3pt: 7.2%<br>3pt: 41.1%"
          ],
          [
           "Allonzo Trier<br>0 - 3ft: 38.2%<br>3 - 10ft: 6.9%<br>10 - 16ft: 11.8%<br>16 - 3pt: 17.6%<br>3pt: 25.5%"
          ],
          [
           "Brad Wanamaker<br>0 - 3ft: 27.0%<br>3 - 10ft: 22.7%<br>10 - 16ft: 7.0%<br>16 - 3pt: 12.1%<br>3pt: 31.1%"
          ],
          [
           "Bruce Brown<br>0 - 3ft: 36.5%<br>3 - 10ft: 29.0%<br>10 - 16ft: 7.7%<br>16 - 3pt: 2.0%<br>3pt: 24.8%"
          ],
          [
           "Chandler Hutchison<br>0 - 3ft: 43.5%<br>3 - 10ft: 25.8%<br>10 - 16ft: 4.8%<br>16 - 3pt: 1.9%<br>3pt: 23.9%"
          ],
          [
           "Collin Sexton<br>0 - 3ft: 26.4%<br>3 - 10ft: 25.3%<br>10 - 16ft: 13.0%<br>16 - 3pt: 9.3%<br>3pt: 26.0%"
          ],
          [
           "De'Anthony Melton<br>0 - 3ft: 20.7%<br>3 - 10ft: 15.5%<br>10 - 16ft: 6.9%<br>16 - 3pt: 6.4%<br>3pt: 50.5%"
          ],
          [
           "Deandre Ayton<br>0 - 3ft: 39.8%<br>3 - 10ft: 29.5%<br>10 - 16ft: 19.0%<br>16 - 3pt: 9.8%<br>3pt: 2.0%"
          ],
          [
           "Devonte' Graham<br>0 - 3ft: 9.5%<br>3 - 10ft: 7.4%<br>10 - 16ft: 5.7%<br>16 - 3pt: 7.3%<br>3pt: 70.1%"
          ],
          [
           "Elie Okobo<br>0 - 3ft: 27.9%<br>3 - 10ft: 12.6%<br>10 - 16ft: 12.2%<br>16 - 3pt: 5.1%<br>3pt: 42.3%"
          ],
          [
           "Frank Jackson<br>0 - 3ft: 22.6%<br>3 - 10ft: 16.7%<br>10 - 16ft: 9.2%<br>16 - 3pt: 4.6%<br>3pt: 46.9%"
          ],
          [
           "Gary Clark<br>0 - 3ft: 7.8%<br>3 - 10ft: 5.7%<br>10 - 16ft: 1.2%<br>16 - 3pt: 0.7%<br>3pt: 84.6%"
          ],
          [
           "Grayson Allen<br>0 - 3ft: 16.4%<br>3 - 10ft: 12.4%<br>10 - 16ft: 5.7%<br>16 - 3pt: 1.5%<br>3pt: 64.0%"
          ],
          [
           "Hamidou Diallo<br>0 - 3ft: 44.4%<br>3 - 10ft: 25.2%<br>10 - 16ft: 9.7%<br>16 - 3pt: 6.0%<br>3pt: 14.7%"
          ],
          [
           "Harry Giles<br>0 - 3ft: 39.6%<br>3 - 10ft: 26.6%<br>10 - 16ft: 14.5%<br>16 - 3pt: 12.0%<br>3pt: 7.3%"
          ],
          [
           "Isaiah Briscoe<br>0 - 3ft: 29.0%<br>3 - 10ft: 15.2%<br>10 - 16ft: 6.5%<br>16 - 3pt: 24.6%<br>3pt: 24.6%"
          ],
          [
           "Jalen Brunson<br>0 - 3ft: 17.1%<br>3 - 10ft: 26.8%<br>10 - 16ft: 17.0%<br>16 - 3pt: 9.4%<br>3pt: 29.7%"
          ],
          [
           "Jaren Jackson Jr.<br>0 - 3ft: 25.8%<br>3 - 10ft: 32.5%<br>10 - 16ft: 5.2%<br>16 - 3pt: 1.0%<br>3pt: 35.5%"
          ],
          [
           "Jevon Carter<br>0 - 3ft: 8.3%<br>3 - 10ft: 6.1%<br>10 - 16ft: 8.6%<br>16 - 3pt: 13.2%<br>3pt: 63.8%"
          ],
          [
           "Jonah Bolden<br>0 - 3ft: 33.3%<br>3 - 10ft: 3.7%<br>10 - 16ft: 1.9%<br>16 - 3pt: 1.9%<br>3pt: 59.3%"
          ],
          [
           "Josh Okogie<br>0 - 3ft: 35.0%<br>3 - 10ft: 15.1%<br>10 - 16ft: 3.4%<br>16 - 3pt: 2.9%<br>3pt: 43.7%"
          ],
          [
           "Kenrich Williams<br>0 - 3ft: 29.1%<br>3 - 10ft: 13.8%<br>10 - 16ft: 6.2%<br>16 - 3pt: 6.1%<br>3pt: 44.8%"
          ],
          [
           "Kevin Huerter<br>0 - 3ft: 14.1%<br>3 - 10ft: 14.4%<br>10 - 16ft: 11.0%<br>16 - 3pt: 4.8%<br>3pt: 55.8%"
          ],
          [
           "Kevin Knox<br>0 - 3ft: 20.2%<br>3 - 10ft: 12.2%<br>10 - 16ft: 7.1%<br>16 - 3pt: 8.0%<br>3pt: 52.5%"
          ],
          [
           "Landry Shamet<br>0 - 3ft: 12.5%<br>3 - 10ft: 6.9%<br>10 - 16ft: 5.5%<br>16 - 3pt: 5.5%<br>3pt: 69.5%"
          ],
          [
           "Luka Dončić<br>0 - 3ft: 17.8%<br>3 - 10ft: 22.1%<br>10 - 16ft: 13.0%<br>16 - 3pt: 5.3%<br>3pt: 41.7%"
          ],
          [
           "Marvin Bagley III<br>0 - 3ft: 38.6%<br>3 - 10ft: 33.4%<br>10 - 16ft: 9.3%<br>16 - 3pt: 3.1%<br>3pt: 15.7%"
          ],
          [
           "Mikal Bridges<br>0 - 3ft: 24.1%<br>3 - 10ft: 15.4%<br>10 - 16ft: 13.4%<br>16 - 3pt: 4.8%<br>3pt: 42.3%"
          ],
          [
           "Miles Bridges<br>0 - 3ft: 34.2%<br>3 - 10ft: 18.0%<br>10 - 16ft: 3.5%<br>16 - 3pt: 4.1%<br>3pt: 40.1%"
          ],
          [
           "Mitchell Robinson<br>0 - 3ft: 91.6%<br>3 - 10ft: 7.9%<br>10 - 16ft: 0.2%<br>16 - 3pt: 0.3%<br>3pt: 0.0%"
          ],
          [
           "Mo Bamba<br>0 - 3ft: 35.4%<br>3 - 10ft: 13.7%<br>10 - 16ft: 4.3%<br>16 - 3pt: 6.1%<br>3pt: 40.6%"
          ],
          [
           "Moritz Wagner<br>0 - 3ft: 40.1%<br>3 - 10ft: 20.9%<br>10 - 16ft: 0.9%<br>16 - 3pt: 1.2%<br>3pt: 36.9%"
          ],
          [
           "Omari Spellman<br>0 - 3ft: 32.0%<br>3 - 10ft: 9.9%<br>10 - 16ft: 5.6%<br>16 - 3pt: 7.8%<br>3pt: 44.7%"
          ],
          [
           "Rodions Kurucs<br>0 - 3ft: 39.0%<br>3 - 10ft: 13.1%<br>10 - 16ft: 1.4%<br>16 - 3pt: 1.4%<br>3pt: 45.2%"
          ],
          [
           "Ryan Broekhoff<br>0 - 3ft: 15.1%<br>3 - 10ft: 4.8%<br>10 - 16ft: 4.0%<br>16 - 3pt: 2.4%<br>3pt: 73.8%"
          ],
          [
           "Shai Gilgeous-Alexander<br>0 - 3ft: 27.4%<br>3 - 10ft: 24.2%<br>10 - 16ft: 20.3%<br>16 - 3pt: 7.8%<br>3pt: 20.2%"
          ],
          [
           "Svi Mykhailiuk<br>0 - 3ft: 17.1%<br>3 - 10ft: 7.9%<br>10 - 16ft: 3.9%<br>16 - 3pt: 4.4%<br>3pt: 66.7%"
          ],
          [
           "Trae Young<br>0 - 3ft: 17.9%<br>3 - 10ft: 19.5%<br>10 - 16ft: 14.8%<br>16 - 3pt: 8.5%<br>3pt: 39.4%"
          ],
          [
           "Troy Brown Jr.<br>0 - 3ft: 21.3%<br>3 - 10ft: 15.6%<br>10 - 16ft: 5.5%<br>16 - 3pt: 7.9%<br>3pt: 49.7%"
          ],
          [
           "Wendell Carter Jr.<br>0 - 3ft: 37.6%<br>3 - 10ft: 20.8%<br>10 - 16ft: 11.5%<br>16 - 3pt: 6.0%<br>3pt: 24.1%"
          ]
         ],
         "hoverlabel": {
          "font": {
           "size": 22
          }
         },
         "hovertemplate": "%{customdata[0]}<extra></extra>",
         "legendgroup": "",
         "marker": {
          "color": "#636efa",
          "line": {
           "color": "DarkSlateGrey",
           "width": 1
          },
          "opacity": 0.4,
          "size": 14,
          "symbol": "circle"
         },
         "mode": "markers",
         "name": "",
         "orientation": "v",
         "showlegend": false,
         "type": "scatter",
         "x": [
          -3.1600047816871157,
          -1.9481407926966883,
          -2.9261482946201096,
          -0.8061522578584489,
          5.970436351092756,
          3.5443443569773883,
          -2.804612836139544,
          -0.8287364547402049,
          -2.7607076019162786,
          0.10817343116660115,
          3.367502695969281,
          -0.2087116745636612,
          -0.857113568203017,
          2.604852324591461,
          3.043769172085641,
          -0.6334518914119175,
          1.9456313726534857,
          -2.2418313919864996,
          -3.54839377736569,
          -1.9296697403498115,
          -1.7347085330543537,
          -2.1287580157154142,
          -1.7674463192761232,
          -0.5548179686296401,
          -0.2476414156473081,
          -0.48238623247564233,
          -2.983703865706097,
          -1.5883829213554734,
          -0.677018186580436,
          -0.8484151403996182,
          0.42794637627237786,
          -0.584416051137863,
          -1.4277462065807982,
          -0.4741523158918603,
          -0.519356264117041,
          3.037019336189732,
          -1.4400624620577958,
          0.38395830059933894,
          4.861834009894796,
          -1.2471308691479113,
          4.748729488081343,
          -2.43958553638595,
          -1.4729349473453275,
          1.7889457025370539,
          -1.397830764199682,
          -2.2057461633204665,
          -0.14015670957400933,
          -1.7357275752978547,
          -1.9970476390714698,
          5.726919648970148,
          -0.6626754507672662,
          -0.7101505503852914,
          -0.3282743235439776,
          -1.3210866044393739,
          3.2729019890395907,
          -1.6302865876609662,
          4.5604406053834285,
          -1.1047930803533106,
          -1.3565541133338521,
          2.6434294219708896,
          -0.42488464460003383,
          -2.006585987997326,
          -0.8555808592068054,
          -2.0146674889612433,
          -1.1759987963814864,
          -1.0550694704458812,
          -1.0546171732151546,
          -0.5164384330946838,
          0.8681375692024723,
          -0.26022244427302665,
          -0.5643351614808138,
          -0.259542813304867,
          1.9066936068710592,
          -2.4263115808809923,
          0.2535132171477859,
          -1.6872330412547616,
          1.577845146403281,
          -1.0368478301172785,
          -2.163356947027503,
          -1.7447374834712865,
          -0.2736798396726107,
          -2.0448804887266148,
          0.07947664215895757,
          -0.0720613262778978,
          3.217850153073431,
          5.8947434107581556,
          6.314515673285198,
          -0.3197559170391351,
          0.08115030047568828,
          -0.809489292970565,
          3.395000627516877,
          3.583193628565899,
          -1.5464423106839273,
          -0.23712528906798458,
          -1.37941781553257,
          -1.209157919835646,
          -1.3700057265994263,
          -1.8590283172731954,
          0.8705459701565506,
          -2.750208008375879,
          -1.8493696297977649,
          5.792877971427204,
          -1.8207563881260052,
          -1.0714912049159888,
          -0.6789669082308251,
          2.6654885140663507,
          -2.670661452746804,
          -2.822395335138182,
          0.6017045222196479,
          2.5886713326182593,
          -1.050356499898319,
          -1.5503241529172715,
          2.710025670615373,
          -2.3886414060299375,
          -1.015780980306902,
          -0.7197265638658314,
          -2.313536888468613,
          -1.0781608088432548,
          -0.1905547795263517,
          -1.4725677347334982,
          -1.2234431496445426,
          -0.4132943018428127,
          -0.32559122976791366,
          4.2265179477934405,
          4.640531956860639,
          0.6039717242502929,
          0.8007282666477507,
          -0.4383793938737902,
          -0.6775305273147769,
          -1.2311803187358206,
          -2.507795585750165,
          -2.012631755088698,
          1.137477568246893,
          -1.521658670531314,
          -0.24373241806886192,
          -1.3623178787152996,
          -1.2622638902975376,
          3.0510566315695966,
          1.7767714882003374,
          -1.8687393198102382,
          -1.467384916289301,
          -1.5499628620311505,
          0.25448722469143026,
          1.1266691994607516,
          0.061555332017412825,
          0.8795666414426772,
          -1.9437644999108685,
          -0.7552105060119575,
          -2.2054271308014104,
          -1.0723485819633314,
          2.8050766863654855,
          -2.4565192810336813,
          -1.5964169417357295,
          -1.713361112740097,
          2.843272944536007,
          -1.3005281003090339,
          1.2039849546098527,
          2.037426530404211,
          -0.7785776911331431,
          -1.199148148478177,
          0.09395429082103485,
          -1.5584628985340736,
          5.405580447903281,
          -0.5292694183282142,
          0.5653549869725016,
          -1.3840116497814006,
          -1.2100047062249237,
          -1.8227410103329382,
          -1.035809293132749,
          6.318358418591507,
          -2.406735775410946,
          -1.2553559683147646,
          5.07150570541827,
          -1.9801957308950073,
          -1.3044173037033837,
          -1.9216330431873019,
          -2.3555882130620915,
          -1.5757910749266166,
          0.6837200279155558,
          -0.7922923800861644,
          -0.8115387463297714,
          5.867197016066708,
          0.5106822665098611,
          -0.8532732105627718,
          3.842653959313614,
          1.097948761590861,
          -0.9835017916747844,
          -0.4255916471591879,
          -0.027653436757219776,
          0.19214674361545253,
          0.30505036498921534,
          -0.34763294914492365,
          -1.071249204328635,
          -1.1363960242466564,
          -0.6399672989770067,
          -0.23095326948600708,
          2.1401528582437854,
          0.9612374123555799,
          -1.9036160024274515,
          -1.0253955265340775,
          4.39461506614215,
          -1.6626100838316324,
          -1.1806515512760916,
          1.674668255900485,
          -1.9313112758767703,
          -1.0577827194978664,
          -0.5968103454856628,
          -0.3979364263881984,
          -0.58122329917263,
          -1.4368471650784238,
          -0.6697964056256819,
          2.898319107780834,
          -0.8109627786597342,
          -0.8610551450278148,
          4.979412807750006,
          -1.8291809299364585,
          0.3264506997411066,
          -1.1057095678404816,
          -0.749465423021704,
          0.10975178604974287,
          3.008549553217144,
          -1.8652872922976147,
          -1.9005339244877242,
          -0.10265612750735958,
          -1.4061611540800563,
          -1.583651972733497,
          -0.3686860535768001,
          0.6048387760629158,
          0.16188160658858874,
          0.12032566812603157,
          4.619323195013113,
          -0.7449737548932112,
          1.5189730071491745,
          -0.14813621719001951,
          4.201661787453356,
          0.18861834110439796,
          0.24686066718060273,
          1.2657841784162847,
          -0.49116174210092134,
          -0.19987395783001874,
          0.3018073301473707,
          3.5314377590832193,
          2.214072073633699,
          1.4205426187868946,
          1.1218064806068448,
          -0.5536045376076838,
          0.8588584142253464,
          -1.1693517979613963,
          -0.1721520202868589,
          -0.6701088741539529,
          3.329264544968095,
          -1.2123921008195457,
          -2.390387546601234,
          -2.0809545804334197,
          -0.18808078081125837,
          -1.0734937968277818,
          2.6889881325544875,
          -0.49509305840918816,
          -0.44215209004555917,
          1.3796755891972614,
          1.723773775327837,
          -0.9169779126963142,
          -1.8337526769321948,
          1.4161212086511663,
          1.8246793938277213,
          -0.28348325834517607,
          1.608680344323594,
          -1.8896563396507766,
          -1.8557209359941607,
          -1.2701419265665104,
          5.420472738908934,
          0.9874174826406547,
          4.947659633271817,
          -1.4208217114731225,
          -0.05363994428077035,
          -0.5200847891343734,
          0.05523888847293265,
          0.24878149417587067,
          -0.5937332264699959,
          -1.7120205928934054,
          1.9214560499551463,
          0.6906462099283032,
          -0.17024086053091228,
          -1.9351697592640416,
          -0.4532948733749911,
          -1.0805529271654193,
          0.24867179281679708,
          -1.1602104925641488,
          0.1332076129492929,
          0.12574503522524366,
          -0.7276502269769762,
          2.5494188726445435,
          -1.5277080033456127,
          0.013121721959549049,
          -0.452663474626467,
          0.5572464758214694,
          4.817312826037879,
          -2.2256970616352776,
          2.710992497148057,
          3.878424619978851,
          -1.684099048026773,
          -0.4472954432498336,
          -0.3688569308042379,
          -1.9171946710428973,
          1.2733721370718678,
          -0.14747597068063015,
          0.07000324185364573,
          -0.4098834911620323,
          -1.0609229020862014,
          -1.0813157970907563,
          -0.18267593262592227,
          0.38557536179087837,
          -1.5422656398124754,
          -1.3729024403117402,
          0.721538433538222,
          1.9760473347588399,
          4.596157150181085,
          -0.552147427782073,
          1.0877352004887646,
          -0.24287622207242926,
          2.9552330514975327,
          0.3087669379876017,
          -0.43022641426895347,
          -0.40721203638559805,
          3.8597260705026906,
          -0.32428394415973755,
          -0.5581424837362063,
          -1.4854538595029283,
          -2.4645534281135655,
          0.9965556417600087,
          -0.8913251759120111,
          -0.5710235640464452,
          -1.0585362818369815,
          0.04844707586093171,
          -0.8993692090675958,
          -1.183243756397634,
          -0.9536766190556895,
          1.080786909522132,
          1.6464901878502474,
          -0.7019029860548422,
          2.371728893217475,
          -0.7894776175448496,
          1.6951107639856133,
          -0.07732246208266692,
          -1.2288109310878454,
          1.6429322317980353,
          -0.2019442000460561,
          0.8933397623374935,
          -1.2310373879283745,
          -1.1092579028087945,
          0.03699776437580419,
          1.3608059335262617,
          1.6030483445885881,
          -0.4107761947642067,
          -1.0021039792287254,
          2.4121146043698043,
          -2.3428196890821718,
          -0.6736738609297312,
          -0.6150455694288418,
          -1.5032501861037646,
          -1.4375717711705291,
          1.5473026702646675,
          2.44168542048358,
          -1.2942751677900246,
          -0.44387651106666803,
          0.6084238666239511,
          -2.7382721858921046,
          0.5171888252910136,
          0.1556966100987091,
          -0.14499505001764687,
          -1.1144941733582094,
          -1.4528845176275436,
          -1.9386100091661969,
          -0.2587148051700399,
          1.5433425960659637,
          -0.08737978511976054,
          0.5284352583837987,
          6.401817570919411,
          0.0974778955392386,
          1.4184557148152888,
          -0.8987013873836334,
          0.3462728432307399,
          -1.2427058047321407,
          0.38019889048147676,
          -1.5698159085411907,
          -0.8835407159077501,
          -0.8808672722412324,
          1.1171968030881367
         ],
         "xaxis": "x",
         "y": [
          0.9594597703873995,
          -0.8207875637648034,
          3.555049031973122,
          3.180587947135054,
          -0.5968995532056219,
          2.5582573554708063,
          2.5474934408184584,
          3.041471418744359,
          -2.0330958548639395,
          1.463844340042673,
          2.2556160151026137,
          -2.6615586810837413,
          -1.15996579291192,
          -1.36242879184705,
          4.536657024246235,
          -2.0476636174247416,
          -1.5990584538112995,
          -0.707019446340406,
          -0.6849095479687518,
          4.1118056953995845,
          -1.6332261079802113,
          1.0822867869646127,
          3.339557375071952,
          -1.7197529030654286,
          -1.2093692984883777,
          2.7990795756440763,
          -0.5011609934771138,
          0.04603811988202692,
          3.2472417264831552,
          -2.542688782933575,
          -0.04528370552973007,
          0.8044175307384334,
          1.4756170449396837,
          -2.233581335113918,
          -0.8912599578547095,
          -1.13213434071937,
          -2.800612969745216,
          -1.060026748545766,
          0.6079377057532792,
          3.320506645823616,
          1.9233993939505716,
          -0.40036279191704816,
          1.129380173235861,
          -0.2121879688701707,
          -1.163275018032478,
          -2.795921668738653,
          -0.9919453791000402,
          0.32779489655479294,
          0.6171291474249769,
          -0.9793968864090496,
          3.074614876027236,
          -0.7705362637727742,
          -0.5566492830368641,
          1.218094157185759,
          -0.34742267263522925,
          -0.7350205734568708,
          2.786202382168606,
          0.23480639441430665,
          -2.1866118395796654,
          -0.10263768249926192,
          2.9157267274416205,
          -2.1696535161112114,
          -1.1724958101732172,
          1.8455374634540986,
          4.59474281909306,
          -1.0083895981585262,
          -1.4500202384949166,
          1.7694991406028813,
          -0.7250283808161356,
          2.3266830936344154,
          -2.0414067459435152,
          1.458966899643785,
          -1.8872427891099495,
          -0.5566016851679118,
          0.28442065300746944,
          0.7348159829294393,
          -0.20000503549105775,
          1.2100271578588488,
          -2.479879184037639,
          -1.4193930544682576,
          -1.5548799002661247,
          0.3179817514310028,
          -0.21426907776413598,
          -0.23156819029647982,
          0.4306542031074515,
          -0.0941490529537832,
          0.28488751974225685,
          0.9185573842927498,
          2.693887922164211,
          1.1943364989941503,
          1.3487454044356049,
          0.917011794323601,
          3.5596268649296494,
          1.1385057995059182,
          2.2318161988709497,
          1.5514789715859179,
          -2.2311081678370868,
          1.7346148683776847,
          -1.3047684811652547,
          -0.30227102335163564,
          0.8946722773249478,
          0.4004444564694033,
          2.1812157008533615,
          1.0186756507757535,
          0.3024105380210651,
          0.1919709449568358,
          -0.33592693037245897,
          2.5111754880873103,
          2.0206282187220146,
          0.8496994090298238,
          2.8061057317099536,
          1.815736736002897,
          -1.3167262754598614,
          0.5186090822422986,
          2.3627895259116523,
          -0.49808185801685617,
          1.4744243874225884,
          -0.10426603986562387,
          1.054997161245806,
          1.6376581546805036,
          1.0722208612888275,
          1.1950885977788877,
          1.2190114781299497,
          0.6393451222018923,
          0.7400402917807104,
          1.8537062525176238,
          -1.4355651735336792,
          -0.8140865595993325,
          1.9037036689496383,
          1.62089095914857,
          -1.425561828468551,
          -0.06476692513973016,
          -1.2104243224959104,
          0.2694109479906535,
          -0.4801862122137979,
          -1.967574875872877,
          1.3593377952677999,
          -1.7150201786703128,
          0.2668250649374338,
          -1.8025919926510312,
          -0.19931590708914804,
          2.1347169524517926,
          2.1288137775852287,
          -2.2380595878159104,
          -2.2347301107707813,
          -0.11813938427125531,
          -1.1474650658838532,
          -0.8274699262097035,
          0.7453760296738461,
          0.5807398864036221,
          -0.9036646956110065,
          -1.3048419986711288,
          -2.929464993051848,
          2.131723784844678,
          -1.1440201658913114,
          2.1430464404358096,
          -1.4603709695891736,
          0.8716944930970637,
          -0.4743809842357273,
          -0.04799025561968986,
          -1.40523734235401,
          -0.7971502182319641,
          0.2258786733179165,
          0.013106919307286025,
          0.27307298692416393,
          -2.2788340508487868,
          -0.051062411563120316,
          -2.490401605193755,
          -2.046919868772048,
          -0.4479503738667902,
          0.5632826268867351,
          -1.9229747111104243,
          0.5418022692116237,
          0.2042957702855685,
          -2.1260134263704025,
          2.352986055095683,
          -1.0492945064587225,
          1.6554383664171346,
          -0.031341911184149716,
          1.15133608038696,
          -0.09493694093609208,
          0.25093165206062,
          -0.8270766336866344,
          -2.3681881820821915,
          -2.032802818982323,
          1.3736963598522578,
          -0.8842659103940488,
          -0.27335173814170227,
          -1.570372850163929,
          0.6654004327851676,
          -2.388105094618441,
          -0.722663861222454,
          -2.3654830321178433,
          -1.5728056584150318,
          1.4074771513301527,
          1.2356923631128884,
          -0.15550891585992405,
          0.3046564225714094,
          -1.1535748015984353,
          -0.3398373101893266,
          0.5595032394345041,
          -0.444838011525803,
          -1.261276548986222,
          -0.9628040281775355,
          1.7530815205556434,
          0.7909463217699291,
          0.9059216801766325,
          1.3608245139051365,
          0.08443765557768095,
          -0.49899360452327707,
          0.9629289646162852,
          0.5474162982015863,
          0.9580276567079055,
          0.8658826598091356,
          0.5339779041156474,
          2.011322091004969,
          0.04457458498348257,
          2.9188327412441883,
          2.2996299388424855,
          -1.173278217545314,
          0.8812354463647832,
          -1.1105645625195473,
          0.9831178024217381,
          1.44755291376811,
          1.9620913332695236,
          0.6895237532007217,
          -0.7931259470048664,
          -0.0430894961964522,
          0.12064397942159479,
          -0.6753053994944487,
          0.30578976409695013,
          0.6666502688148395,
          -1.3886985365188722,
          0.28819043979751924,
          0.566081320153853,
          -0.789114858973284,
          -1.605760787647183,
          0.8669193746725945,
          -0.7574578270921037,
          -3.053141261636944,
          0.3400738858200142,
          0.4529236387317248,
          0.13351707847221597,
          -2.344953758220914,
          -1.0943077541079438,
          -0.39937359989095755,
          2.174202452447704,
          0.6320577704620072,
          -1.1600908900037932,
          1.4099515049098041,
          0.12292737887587138,
          2.434758018419363,
          -0.31266251444240345,
          -0.3588188136797276,
          1.47259587256628,
          -0.4828912295909665,
          -0.30783672013950925,
          -2.485622328542331,
          -0.9421800272490027,
          -1.2299140757734717,
          -1.2109998319080308,
          2.5731482872250897,
          0.4581011938875055,
          -2.4377181453436565,
          -0.2604637525672493,
          -2.7282774861780754,
          -2.8458763686964605,
          -2.966022887958308,
          0.8435272493968293,
          -1.830157435794023,
          0.583536448742387,
          -2.051096159439556,
          0.5064195451388255,
          2.006115815297824,
          0.48608184677791105,
          2.7661310286706806,
          -2.7513227066733457,
          0.8451919979255732,
          0.8458371848433268,
          -1.08539949016938,
          -1.1413559218237932,
          0.7494083516563341,
          -1.3064358637515987,
          1.3057223320750797,
          -1.372066585219847,
          -0.9843602274252234,
          -1.8875984110925599,
          -1.9161916654894815,
          -0.03048772563628329,
          -1.7355974937385852,
          0.9203694482950833,
          -0.5476168782242271,
          1.7605537979184975,
          -1.5129243965302062,
          -1.4652221724517123,
          -1.7983396749834888,
          1.702448232491515,
          3.5599567061073056,
          1.4496035014513189,
          1.2253474226711683,
          0.35715968599090797,
          -1.58069356478663,
          -1.6890018129255884,
          0.061192621412886374,
          -1.4041396088640385,
          2.668272714645643,
          1.4993017217317264,
          0.02251971492760413,
          0.6483480972342608,
          2.3532165703909453,
          0.9821909619642907,
          1.7547071627183461,
          0.8118147819347544,
          -0.7512458889372893,
          -1.0448185470854006,
          0.43033641216026713,
          -0.5355149073290034,
          0.9867861305384101,
          -0.7738730961641004,
          -1.1186205298850067,
          2.6249760078472915,
          -1.3986235372289355,
          0.7346828822142563,
          -1.1245408576687004,
          0.6555416514390913,
          0.40779991889188233,
          -0.7883806804245967,
          -0.5891756525365341,
          -0.530508379729478,
          -1.8352541482309432,
          0.11867530920500878,
          -2.7855657906342253,
          1.2611728873742638,
          -1.5548510739640289,
          -2.7943587231795597,
          -0.8645810969699068,
          -2.2107992255846334,
          -0.3281941366398041,
          -1.5931008758083343,
          -1.6229051434252317,
          -0.16739180961487266,
          -3.247531105010969,
          -0.8265198717991574,
          -1.934846879624257,
          -0.3861343901436366,
          1.3844712090485845,
          -0.3912291711754045,
          -0.7221333600281726,
          1.235729991777313,
          1.8021964472553984,
          0.6004828574897901,
          -0.8730809576432328,
          -1.1308980497854324,
          1.9688186199630808,
          -0.5597075718538354,
          1.6714745464113416,
          -0.29403083612126274,
          0.18876578911651454,
          -0.30748536337482735,
          -3.0521838627592563,
          -1.099189247792633,
          0.22812520531548022,
          2.731529649289861,
          1.5226382193330923,
          2.011575076996452,
          -0.385129711783356,
          -0.04070161484434761,
          -3.2469653032940995,
          -1.3048056464955533,
          -1.3518538700895588,
          -0.5742275262172211,
          -0.33359303063923323,
          -1.7010913337154396,
          2.6182619388522266,
          0.5822759120110707,
          -0.9876538096233873,
          -1.2977946587595743,
          -0.6939612047741185,
          -1.3244827333274862,
          -1.8517890808248954,
          -1.118300107106841,
          -1.7945446641242722,
          -2.920900274519182,
          2.5592577625665207,
          -1.5971419838010708,
          2.9422965402828933,
          -0.7824726202559953,
          -0.32045743776568464
         ],
         "yaxis": "y"
        }
       ],
       "layout": {
        "legend": {
         "tracegroupgap": 0
        },
        "plot_bgcolor": "rgba(0,0,0,0)",
        "template": {
         "data": {
          "bar": [
           {
            "error_x": {
             "color": "#2a3f5f"
            },
            "error_y": {
             "color": "#2a3f5f"
            },
            "marker": {
             "line": {
              "color": "#E5ECF6",
              "width": 0.5
             },
             "pattern": {
              "fillmode": "overlay",
              "size": 10,
              "solidity": 0.2
             }
            },
            "type": "bar"
           }
          ],
          "barpolar": [
           {
            "marker": {
             "line": {
              "color": "#E5ECF6",
              "width": 0.5
             },
             "pattern": {
              "fillmode": "overlay",
              "size": 10,
              "solidity": 0.2
             }
            },
            "type": "barpolar"
           }
          ],
          "carpet": [
           {
            "aaxis": {
             "endlinecolor": "#2a3f5f",
             "gridcolor": "white",
             "linecolor": "white",
             "minorgridcolor": "white",
             "startlinecolor": "#2a3f5f"
            },
            "baxis": {
             "endlinecolor": "#2a3f5f",
             "gridcolor": "white",
             "linecolor": "white",
             "minorgridcolor": "white",
             "startlinecolor": "#2a3f5f"
            },
            "type": "carpet"
           }
          ],
          "choropleth": [
           {
            "colorbar": {
             "outlinewidth": 0,
             "ticks": ""
            },
            "type": "choropleth"
           }
          ],
          "contour": [
           {
            "colorbar": {
             "outlinewidth": 0,
             "ticks": ""
            },
            "colorscale": [
             [
              0,
              "#0d0887"
             ],
             [
              0.1111111111111111,
              "#46039f"
             ],
             [
              0.2222222222222222,
              "#7201a8"
             ],
             [
              0.3333333333333333,
              "#9c179e"
             ],
             [
              0.4444444444444444,
              "#bd3786"
             ],
             [
              0.5555555555555556,
              "#d8576b"
             ],
             [
              0.6666666666666666,
              "#ed7953"
             ],
             [
              0.7777777777777778,
              "#fb9f3a"
             ],
             [
              0.8888888888888888,
              "#fdca26"
             ],
             [
              1,
              "#f0f921"
             ]
            ],
            "type": "contour"
           }
          ],
          "contourcarpet": [
           {
            "colorbar": {
             "outlinewidth": 0,
             "ticks": ""
            },
            "type": "contourcarpet"
           }
          ],
          "heatmap": [
           {
            "colorbar": {
             "outlinewidth": 0,
             "ticks": ""
            },
            "colorscale": [
             [
              0,
              "#0d0887"
             ],
             [
              0.1111111111111111,
              "#46039f"
             ],
             [
              0.2222222222222222,
              "#7201a8"
             ],
             [
              0.3333333333333333,
              "#9c179e"
             ],
             [
              0.4444444444444444,
              "#bd3786"
             ],
             [
              0.5555555555555556,
              "#d8576b"
             ],
             [
              0.6666666666666666,
              "#ed7953"
             ],
             [
              0.7777777777777778,
              "#fb9f3a"
             ],
             [
              0.8888888888888888,
              "#fdca26"
             ],
             [
              1,
              "#f0f921"
             ]
            ],
            "type": "heatmap"
           }
          ],
          "heatmapgl": [
           {
            "colorbar": {
             "outlinewidth": 0,
             "ticks": ""
            },
            "colorscale": [
             [
              0,
              "#0d0887"
             ],
             [
              0.1111111111111111,
              "#46039f"
             ],
             [
              0.2222222222222222,
              "#7201a8"
             ],
             [
              0.3333333333333333,
              "#9c179e"
             ],
             [
              0.4444444444444444,
              "#bd3786"
             ],
             [
              0.5555555555555556,
              "#d8576b"
             ],
             [
              0.6666666666666666,
              "#ed7953"
             ],
             [
              0.7777777777777778,
              "#fb9f3a"
             ],
             [
              0.8888888888888888,
              "#fdca26"
             ],
             [
              1,
              "#f0f921"
             ]
            ],
            "type": "heatmapgl"
           }
          ],
          "histogram": [
           {
            "marker": {
             "pattern": {
              "fillmode": "overlay",
              "size": 10,
              "solidity": 0.2
             }
            },
            "type": "histogram"
           }
          ],
          "histogram2d": [
           {
            "colorbar": {
             "outlinewidth": 0,
             "ticks": ""
            },
            "colorscale": [
             [
              0,
              "#0d0887"
             ],
             [
              0.1111111111111111,
              "#46039f"
             ],
             [
              0.2222222222222222,
              "#7201a8"
             ],
             [
              0.3333333333333333,
              "#9c179e"
             ],
             [
              0.4444444444444444,
              "#bd3786"
             ],
             [
              0.5555555555555556,
              "#d8576b"
             ],
             [
              0.6666666666666666,
              "#ed7953"
             ],
             [
              0.7777777777777778,
              "#fb9f3a"
             ],
             [
              0.8888888888888888,
              "#fdca26"
             ],
             [
              1,
              "#f0f921"
             ]
            ],
            "type": "histogram2d"
           }
          ],
          "histogram2dcontour": [
           {
            "colorbar": {
             "outlinewidth": 0,
             "ticks": ""
            },
            "colorscale": [
             [
              0,
              "#0d0887"
             ],
             [
              0.1111111111111111,
              "#46039f"
             ],
             [
              0.2222222222222222,
              "#7201a8"
             ],
             [
              0.3333333333333333,
              "#9c179e"
             ],
             [
              0.4444444444444444,
              "#bd3786"
             ],
             [
              0.5555555555555556,
              "#d8576b"
             ],
             [
              0.6666666666666666,
              "#ed7953"
             ],
             [
              0.7777777777777778,
              "#fb9f3a"
             ],
             [
              0.8888888888888888,
              "#fdca26"
             ],
             [
              1,
              "#f0f921"
             ]
            ],
            "type": "histogram2dcontour"
           }
          ],
          "mesh3d": [
           {
            "colorbar": {
             "outlinewidth": 0,
             "ticks": ""
            },
            "type": "mesh3d"
           }
          ],
          "parcoords": [
           {
            "line": {
             "colorbar": {
              "outlinewidth": 0,
              "ticks": ""
             }
            },
            "type": "parcoords"
           }
          ],
          "pie": [
           {
            "automargin": true,
            "type": "pie"
           }
          ],
          "scatter": [
           {
            "fillpattern": {
             "fillmode": "overlay",
             "size": 10,
             "solidity": 0.2
            },
            "type": "scatter"
           }
          ],
          "scatter3d": [
           {
            "line": {
             "colorbar": {
              "outlinewidth": 0,
              "ticks": ""
             }
            },
            "marker": {
             "colorbar": {
              "outlinewidth": 0,
              "ticks": ""
             }
            },
            "type": "scatter3d"
           }
          ],
          "scattercarpet": [
           {
            "marker": {
             "colorbar": {
              "outlinewidth": 0,
              "ticks": ""
             }
            },
            "type": "scattercarpet"
           }
          ],
          "scattergeo": [
           {
            "marker": {
             "colorbar": {
              "outlinewidth": 0,
              "ticks": ""
             }
            },
            "type": "scattergeo"
           }
          ],
          "scattergl": [
           {
            "marker": {
             "colorbar": {
              "outlinewidth": 0,
              "ticks": ""
             }
            },
            "type": "scattergl"
           }
          ],
          "scattermapbox": [
           {
            "marker": {
             "colorbar": {
              "outlinewidth": 0,
              "ticks": ""
             }
            },
            "type": "scattermapbox"
           }
          ],
          "scatterpolar": [
           {
            "marker": {
             "colorbar": {
              "outlinewidth": 0,
              "ticks": ""
             }
            },
            "type": "scatterpolar"
           }
          ],
          "scatterpolargl": [
           {
            "marker": {
             "colorbar": {
              "outlinewidth": 0,
              "ticks": ""
             }
            },
            "type": "scatterpolargl"
           }
          ],
          "scatterternary": [
           {
            "marker": {
             "colorbar": {
              "outlinewidth": 0,
              "ticks": ""
             }
            },
            "type": "scatterternary"
           }
          ],
          "surface": [
           {
            "colorbar": {
             "outlinewidth": 0,
             "ticks": ""
            },
            "colorscale": [
             [
              0,
              "#0d0887"
             ],
             [
              0.1111111111111111,
              "#46039f"
             ],
             [
              0.2222222222222222,
              "#7201a8"
             ],
             [
              0.3333333333333333,
              "#9c179e"
             ],
             [
              0.4444444444444444,
              "#bd3786"
             ],
             [
              0.5555555555555556,
              "#d8576b"
             ],
             [
              0.6666666666666666,
              "#ed7953"
             ],
             [
              0.7777777777777778,
              "#fb9f3a"
             ],
             [
              0.8888888888888888,
              "#fdca26"
             ],
             [
              1,
              "#f0f921"
             ]
            ],
            "type": "surface"
           }
          ],
          "table": [
           {
            "cells": {
             "fill": {
              "color": "#EBF0F8"
             },
             "line": {
              "color": "white"
             }
            },
            "header": {
             "fill": {
              "color": "#C8D4E3"
             },
             "line": {
              "color": "white"
             }
            },
            "type": "table"
           }
          ]
         },
         "layout": {
          "annotationdefaults": {
           "arrowcolor": "#2a3f5f",
           "arrowhead": 0,
           "arrowwidth": 1
          },
          "autotypenumbers": "strict",
          "coloraxis": {
           "colorbar": {
            "outlinewidth": 0,
            "ticks": ""
           }
          },
          "colorscale": {
           "diverging": [
            [
             0,
             "#8e0152"
            ],
            [
             0.1,
             "#c51b7d"
            ],
            [
             0.2,
             "#de77ae"
            ],
            [
             0.3,
             "#f1b6da"
            ],
            [
             0.4,
             "#fde0ef"
            ],
            [
             0.5,
             "#f7f7f7"
            ],
            [
             0.6,
             "#e6f5d0"
            ],
            [
             0.7,
             "#b8e186"
            ],
            [
             0.8,
             "#7fbc41"
            ],
            [
             0.9,
             "#4d9221"
            ],
            [
             1,
             "#276419"
            ]
           ],
           "sequential": [
            [
             0,
             "#0d0887"
            ],
            [
             0.1111111111111111,
             "#46039f"
            ],
            [
             0.2222222222222222,
             "#7201a8"
            ],
            [
             0.3333333333333333,
             "#9c179e"
            ],
            [
             0.4444444444444444,
             "#bd3786"
            ],
            [
             0.5555555555555556,
             "#d8576b"
            ],
            [
             0.6666666666666666,
             "#ed7953"
            ],
            [
             0.7777777777777778,
             "#fb9f3a"
            ],
            [
             0.8888888888888888,
             "#fdca26"
            ],
            [
             1,
             "#f0f921"
            ]
           ],
           "sequentialminus": [
            [
             0,
             "#0d0887"
            ],
            [
             0.1111111111111111,
             "#46039f"
            ],
            [
             0.2222222222222222,
             "#7201a8"
            ],
            [
             0.3333333333333333,
             "#9c179e"
            ],
            [
             0.4444444444444444,
             "#bd3786"
            ],
            [
             0.5555555555555556,
             "#d8576b"
            ],
            [
             0.6666666666666666,
             "#ed7953"
            ],
            [
             0.7777777777777778,
             "#fb9f3a"
            ],
            [
             0.8888888888888888,
             "#fdca26"
            ],
            [
             1,
             "#f0f921"
            ]
           ]
          },
          "colorway": [
           "#636efa",
           "#EF553B",
           "#00cc96",
           "#ab63fa",
           "#FFA15A",
           "#19d3f3",
           "#FF6692",
           "#B6E880",
           "#FF97FF",
           "#FECB52"
          ],
          "font": {
           "color": "#2a3f5f"
          },
          "geo": {
           "bgcolor": "white",
           "lakecolor": "white",
           "landcolor": "#E5ECF6",
           "showlakes": true,
           "showland": true,
           "subunitcolor": "white"
          },
          "hoverlabel": {
           "align": "left"
          },
          "hovermode": "closest",
          "mapbox": {
           "style": "light"
          },
          "paper_bgcolor": "white",
          "plot_bgcolor": "#E5ECF6",
          "polar": {
           "angularaxis": {
            "gridcolor": "white",
            "linecolor": "white",
            "ticks": ""
           },
           "bgcolor": "#E5ECF6",
           "radialaxis": {
            "gridcolor": "white",
            "linecolor": "white",
            "ticks": ""
           }
          },
          "scene": {
           "xaxis": {
            "backgroundcolor": "#E5ECF6",
            "gridcolor": "white",
            "gridwidth": 2,
            "linecolor": "white",
            "showbackground": true,
            "ticks": "",
            "zerolinecolor": "white"
           },
           "yaxis": {
            "backgroundcolor": "#E5ECF6",
            "gridcolor": "white",
            "gridwidth": 2,
            "linecolor": "white",
            "showbackground": true,
            "ticks": "",
            "zerolinecolor": "white"
           },
           "zaxis": {
            "backgroundcolor": "#E5ECF6",
            "gridcolor": "white",
            "gridwidth": 2,
            "linecolor": "white",
            "showbackground": true,
            "ticks": "",
            "zerolinecolor": "white"
           }
          },
          "shapedefaults": {
           "line": {
            "color": "#2a3f5f"
           }
          },
          "ternary": {
           "aaxis": {
            "gridcolor": "white",
            "linecolor": "white",
            "ticks": ""
           },
           "baxis": {
            "gridcolor": "white",
            "linecolor": "white",
            "ticks": ""
           },
           "bgcolor": "#E5ECF6",
           "caxis": {
            "gridcolor": "white",
            "linecolor": "white",
            "ticks": ""
           }
          },
          "title": {
           "x": 0.05
          },
          "xaxis": {
           "automargin": true,
           "gridcolor": "white",
           "linecolor": "white",
           "ticks": "",
           "title": {
            "standoff": 15
           },
           "zerolinecolor": "white",
           "zerolinewidth": 2
          },
          "yaxis": {
           "automargin": true,
           "gridcolor": "white",
           "linecolor": "white",
           "ticks": "",
           "title": {
            "standoff": 15
           },
           "zerolinecolor": "white",
           "zerolinewidth": 2
          }
         }
        },
        "title": {
         "text": "PCA - Player Shooting Tendencies"
        },
        "xaxis": {
         "anchor": "y",
         "domain": [
          0,
          1
         ],
         "title": {
          "text": "Principal Component 1"
         }
        },
        "yaxis": {
         "anchor": "x",
         "domain": [
          0,
          1
         ],
         "title": {
          "text": "Principal Component 2"
         }
        }
       }
      }
     },
     "metadata": {},
     "output_type": "display_data"
    }
   ],
   "source": [
    "# Create a new column for hover data\n",
    "df_final['hover_data'] = df_final.apply(lambda row:\n",
    "                                        f\"{row['player']}<br>\" +\n",
    "                                        f\"0 - 3ft: {row['percent_fga_from_x0_3_range']:.1%}<br>\" +\n",
    "                                        f\"3 - 10ft: {row['percent_fga_from_x3_10_range']:.1%}<br>\" +\n",
    "                                        f\"10 - 16ft: {row['percent_fga_from_x10_16_range']:.1%}<br>\" +\n",
    "                                        f\"16 - 3pt: {row['percent_fga_from_x16_3p_range']:.1%}<br>\" +\n",
    "                                        f\"3pt: {row['percent_fga_from_x3p_range']:.1%}\",\n",
    "                                        axis=1)\n",
    "\n",
    "# Create a scatter plot with Plotly, including hover data\n",
    "fig = px.scatter(df_final, x='pca_1', y='pca_2', \n",
    "                 custom_data=['hover_data'], \n",
    "                #  hover_data={'player': False, 'hover_data': True, 'pca_1': False, 'pca_2': False},\n",
    "                 title='PCA - Player Shooting Tendencies')\n",
    "\n",
    "# Update hover label font size\n",
    "fig.update_traces(\n",
    "    hovertemplate='%{customdata[0]}<extra></extra>',\n",
    "    hoverlabel=dict(font_size=22)\n",
    ")\n",
    "\n",
    "# Change background color\n",
    "fig.update_layout(\n",
    "    plot_bgcolor='rgba(0,0,0,0)',\n",
    "    # paper_bgcolor='rgba(0,0,0,0)'\n",
    ")\n",
    "\n",
    "# Update layout for better readability\n",
    "fig.update_traces(marker=dict(size=14, opacity=0.4, line=dict(width=1, color='DarkSlateGrey')))\n",
    "fig.update_layout(\n",
    "    xaxis_title=\"Principal Component 1\",\n",
    "    yaxis_title=\"Principal Component 2\"\n",
    ")\n",
    "\n",
    "fig.show()\n"
   ]
  },
  {
   "cell_type": "markdown",
   "metadata": {},
   "source": [
    "#### 🏀 Step 3: Analyzing our plot\n",
    "\n",
    "We can now see players plotted in 2D space, with each point representing a player’s shooting profile. By hovering over the points, a player’s name and shooting stats are displayed.\n",
    "\n",
    "Interestingly, we see that Principal Component 1 (PC1) separates players based on their 3pt shooting tendencies. Players on the left side of the plot take more threes, while those on the right take fewer. PC2 seems to separate players based on their mid-range shooting."
   ]
  },
  {
   "cell_type": "markdown",
   "metadata": {},
   "source": [
    "## Summary\n",
    "\n",
    "In this notebook, we explored NBA player shooting tendencies using data from the past few seasons. We cleaned and aggregated player data to ensure accuracy, accounting for seasonal variations and shot volume per game. We then merged shooting data with per-36-minute stats to get a more holistic view of player efficiency and shot selection.\n",
    "\n",
    "To make the data more interpretable, we applied dimensionality reduction techniques (PCA) to approximate player shooting profiles in 2D space. This allowed us to visualize shooting styles and compare players at a glance.\n",
    "\n",
    "Finally, we enhanced interactivity by adding hover functionality, making the plot more user-friendly for exploration.\n",
    "\n",
    "#### **Key Takeaways**\n",
    "- We successfully summarized complex shooting data into an intuitive visual representation.\n",
    "- The dimensionality reduction approach worked well for making shooting profiles comparable.\n",
    "- The final visualization provides a simple yet insightful tool for exploring player tendencies.\n",
    "\n",
    "#### **Next Steps**\n",
    "- ✅ Clustering players into shooting archetypes (e.g., sharpshooters, mid-range specialists).\n",
    "- ✅ Using alternative dimensionality reduction techniques (t-SNE, UMAP) to capture non-linear shooting trends.\n",
    "- ✅ Expanding the analysis beyond shooting to include playmaking, defense, or overall scoring efficiency.\n",
    "- ✅ Deploying the visualization on a web app for even more interactivity."
   ]
  },
  {
   "cell_type": "markdown",
   "metadata": {},
   "source": []
  }
 ],
 "metadata": {
  "kernelspec": {
   "display_name": "Python 3",
   "language": "python",
   "name": "python3"
  },
  "language_info": {
   "codemirror_mode": {
    "name": "ipython",
    "version": 3
   },
   "file_extension": ".py",
   "mimetype": "text/x-python",
   "name": "python",
   "nbconvert_exporter": "python",
   "pygments_lexer": "ipython3",
   "version": "3.10.2"
  }
 },
 "nbformat": 4,
 "nbformat_minor": 2
}
